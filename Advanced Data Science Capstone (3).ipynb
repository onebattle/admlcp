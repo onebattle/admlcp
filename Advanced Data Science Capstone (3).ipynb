{
 "cells": [
  {
   "cell_type": "markdown",
   "id": "26929178-1289-44a4-b4f6-3a6644d7daf3",
   "metadata": {},
   "source": [
    "<h1>Advanced Data Science Capstone</h1>\n",
    "\n",
    "<h2>Introduction</h2>\n",
    "\n",
    "My project is based on \"Spaceship Titanic\", a Kaggle Competition. It is a project about choosing the appropriate learning method after comparing the accuracy of different models with each other. Six different models such as \"Logistic Regression\", \"GBT Classifier\", \"Linear SVC\", \"Decision Tree Classifier\", \"Random Forest Classifier\", \"Multilayer Perceptron Classifier\" were applied and the one with the highest accuracy was sought. Spark ML was used in the study.\n",
    "\n",
    "The scenario is as follows:\n",
    "\n",
    "<i>\"Welcome to the year 2912, where your data science skills are needed to solve a cosmic mystery. We've received a transmission from four lightyears away and things aren't looking good.\n",
    "\n",
    "<i>The Spaceship Titanic was an interstellar passenger liner launched a month ago. With almost 13,000 passengers on board, the vessel set out on its maiden voyage transporting emigrants from our solar system to three newly habitable exoplanets orbiting nearby stars.\n",
    "\n",
    "<i>While rounding Alpha Centauri en route to its first destination—the torrid 55 Cancri E—the unwary Spaceship Titanic collided with a spacetime anomaly hidden within a dust cloud. Sadly, it met a similar fate as its namesake from 1000 years before. Though the ship stayed intact, almost half of the passengers were transported to an alternate dimension!\n",
    "\n",
    "<i>To help rescue crews and retrieve the lost passengers, you are challenged to predict which passengers were transported by the anomaly using records recovered from the spaceship’s damaged computer system.\n",
    "\n",
    "<i>Help save them and change history!\n",
    "\n",
    "<i>In this competition your task is to predict whether a passenger was transported to an alternate dimension during the Spaceship Titanic's collision with the spacetime anomaly. To help you make these predictions, you're given a set of personal records recovered from the ship's damaged computer system.\"</i>"
   ]
  },
  {
   "cell_type": "markdown",
   "id": "b62f4ca1-d220-454f-8897-3bed05148b4f",
   "metadata": {},
   "source": [
    "# **Table of Contents**\n",
    "* [Data Source](#1)\n",
    "* [Importing Libraries](#2)\n",
    "* [Reading the data](#3)\n",
    "* [Exploratory Data Analysis](#4)\n",
    "* [Feature Engineering](#5)\n",
    "* [Spark ML Models](#6)"
   ]
  },
  {
   "cell_type": "markdown",
   "id": "a00ee919-6805-41ea-992b-117ed121e58e",
   "metadata": {},
   "source": [
    "<a id='1'></a>\n",
    "<h2>Data Source</h2>\n",
    "The data set is a data set containing the information of transported persons and private individuals in the \"Space Ship Titanic\", taken from https://www.kaggle.com/code/gusthema/spaceship-titanic-with-tfdf/\n",
    "\n",
    "<h3>File and Data Field Descriptions</h3>\n",
    "<p><code>train.csv</code> - Personal records for about two-thirds (~8700) of the passengers, to be used as training data.</p>\n",
    "<p><code>PassengerId</code> - A unique Id for each passenger.</p>\n",
    "<p><code>HomePlanet</code> - The planet the passenger departed from, typically their planet of permanent residence.</p>\n",
    "<p><code>CryoSleep</code> - Indicates whether the passenger elected to be put into suspended animation for the duration of the voyage. Passengers in cryosleep are confined to their cabins.</p>\n",
    "<p><code>Cabin</code> - The cabin number where the passenger is staying. Takes the form deck/num/side, where side can be either P for Port or S for Starboard.</p>\n",
    "<p><code>Destination</code> - The planet the passenger will be debarking to.</p>\n",
    "<p><code>Age</code> - The age of the passenger.</p>\n",
    "<p><code>VIP</code> - Whether the passenger has paid for special VIP service during the voyage.</p>\n",
    "<p><code>RoomService, FoodCourt, ShoppingMall, Spa, VRDeck</code> - Amount the passenger has billed at each of the Spaceship Titanic's many luxury amenities.</p>\n",
    "<p><code>Name</code> - The first and last names of the passenger.</p>\n",
    "<p><code>Transported</code> - Whether the passenger was transported to another dimension. This is the target, the column you are trying to predict.</p>\n",
    "<p><code>test.csv</code> - Personal records for the remaining one-third (~4300) of the passengers, to be used as test data. Your task is to predict the value of Transported for the passengers in this set.</p>\n"
   ]
  },
  {
   "cell_type": "markdown",
   "id": "93c24b45-cf05-4cee-8ad7-e5ef53d85698",
   "metadata": {},
   "source": [
    "First, we install the necessary library for Pyspark "
   ]
  },
  {
   "cell_type": "code",
   "execution_count": 1,
   "id": "3bf68eb0-ae6a-4b63-97a1-563ec7f1f768",
   "metadata": {
    "tags": []
   },
   "outputs": [
    {
     "name": "stdout",
     "output_type": "stream",
     "text": [
      "Defaulting to user installation because normal site-packages is not writeable\n",
      "Requirement already satisfied: pyspark in c:\\users\\gokhan\\appdata\\roaming\\python\\python311\\site-packages (3.5.0)\n",
      "Requirement already satisfied: py4j==0.10.9.7 in c:\\users\\gokhan\\appdata\\roaming\\python\\python311\\site-packages (from pyspark) (0.10.9.7)\n"
     ]
    }
   ],
   "source": [
    "!pip install pyspark"
   ]
  },
  {
   "cell_type": "markdown",
   "id": "c93793e1-c1d6-42f4-84d3-4f56c1351939",
   "metadata": {},
   "source": [
    "<a id='2'></a>\n",
    "# **Importing Libraries**"
   ]
  },
  {
   "cell_type": "code",
   "execution_count": 2,
   "id": "340af2e2-5fad-41a9-acf0-f965a91a4c78",
   "metadata": {
    "tags": []
   },
   "outputs": [],
   "source": [
    "import warnings  # Base category for warnings triggered during the process of importing a module (ignored by default)\n",
    "warnings.filterwarnings('ignore')  # here we prescribe the action in case of an error.\n",
    "\n",
    "import os\n",
    "import pandas as pd\n",
    "import numpy as np\n",
    "from sklearn.impute import SimpleImputer\n",
    "from collections import Counter\n",
    "import re\n",
    "from pylab import *\n",
    "from pyspark.sql.functions import udf, concat, col, lit\n",
    "from pyspark import SparkConf, SparkContext\n",
    "from pyspark.sql import SparkSession, SQLContext\n",
    "from pyspark.sql.types import *\n",
    "import pyspark.sql.functions as F\n",
    "\n",
    "\n",
    "\n",
    "#Creating spark session\n",
    "sc = SparkContext.getOrCreate(SparkConf().setMaster(\"local[*]\"))\n",
    "from pyspark.sql import SparkSession\n",
    "spark = SparkSession \\\n",
    "    .builder \\\n",
    "    .getOrCreate()\n",
    "sqlContext = SQLContext(sc)\n",
    "\n",
    "\n",
    "from pyspark.ml.feature import StringIndexer\n",
    "from pyspark.ml.feature import VectorAssembler\n",
    "from pyspark.ml.feature import Normalizer\n",
    "from pyspark.ml import Pipeline\n",
    "from pyspark.ml.evaluation import MulticlassClassificationEvaluator\n",
    "from pyspark.ml.classification import LogisticRegression\n",
    "from pyspark.ml.classification import GBTClassifier\n",
    "from pyspark.ml.classification import DecisionTreeClassifier\n",
    "from pyspark.ml.classification import LinearSVC\n",
    "from pyspark.ml.classification import RandomForestClassifier\n",
    "from pyspark.ml.classification import MultilayerPerceptronClassifier\n",
    "\n",
    "\n",
    "import matplotlib.pyplot as plt\n",
    "import seaborn as sns\n",
    "%matplotlib inline"
   ]
  },
  {
   "cell_type": "markdown",
   "id": "ccd0e784-d287-4ea0-b969-fb032408e6b0",
   "metadata": {},
   "source": [
    "<a id='3'></a>\n",
    "# **Reading the data**"
   ]
  },
  {
   "cell_type": "code",
   "execution_count": 3,
   "id": "98ba1975-83de-47a6-9a9c-e1872afdae56",
   "metadata": {
    "tags": []
   },
   "outputs": [],
   "source": [
    "def concat_dataframes(train_data, test_data):\n",
    "    '''Creates a concatenated data frame whose input is the training and test data set without an index in its output.'''\n",
    "    # Returns a concatenated dataframes of training and test set\n",
    "    return pd.concat([train_data, test_data], sort=True).reset_index(drop=True)\n",
    "\n",
    "def divide_df(all_data):\n",
    "    '''A function whose input is concatenated using the training and test dataframes, \n",
    "    and whose output is unlabeled dataframes that are the training dataframe and test dataframe using this data frame.'''\n",
    "    # Returns divided dataframes of training and test set\n",
    "    return all_data.loc[:8692], all_data.loc[8693:].drop(['Transported'], axis=1)\n",
    "\n",
    "df_train = pd.read_csv('sp_train.csv')\n",
    "df_test = pd.read_csv('sp_test.csv')\n",
    "df_all= concat_dataframes(df_train,df_test)\n",
    "\n",
    "\n",
    "#We assign names to dataframes\n",
    "df_train.name = 'Training Set'  # set parameter for dataset - dataframe name\n",
    "df_test.name = 'Test Set'  # set parameter for dataset - dataframe name\n",
    "df_all.name = 'All Set'  # set parameter for dataset - dataframe name \n",
    "\n",
    "dfs = [df_train, df_test]\n"
   ]
  },
  {
   "cell_type": "code",
   "execution_count": 4,
   "id": "c6da8e79-b01b-41aa-93e8-55f3648df001",
   "metadata": {
    "tags": []
   },
   "outputs": [
    {
     "data": {
      "text/html": [
       "<div>\n",
       "<style scoped>\n",
       "    .dataframe tbody tr th:only-of-type {\n",
       "        vertical-align: middle;\n",
       "    }\n",
       "\n",
       "    .dataframe tbody tr th {\n",
       "        vertical-align: top;\n",
       "    }\n",
       "\n",
       "    .dataframe thead th {\n",
       "        text-align: right;\n",
       "    }\n",
       "</style>\n",
       "<table border=\"1\" class=\"dataframe\">\n",
       "  <thead>\n",
       "    <tr style=\"text-align: right;\">\n",
       "      <th></th>\n",
       "      <th>PassengerId</th>\n",
       "      <th>HomePlanet</th>\n",
       "      <th>CryoSleep</th>\n",
       "      <th>Cabin</th>\n",
       "      <th>Destination</th>\n",
       "      <th>Age</th>\n",
       "      <th>VIP</th>\n",
       "      <th>RoomService</th>\n",
       "      <th>FoodCourt</th>\n",
       "      <th>ShoppingMall</th>\n",
       "      <th>Spa</th>\n",
       "      <th>VRDeck</th>\n",
       "      <th>Name</th>\n",
       "      <th>Transported</th>\n",
       "    </tr>\n",
       "  </thead>\n",
       "  <tbody>\n",
       "    <tr>\n",
       "      <th>6448</th>\n",
       "      <td>6810_02</td>\n",
       "      <td>Mars</td>\n",
       "      <td>False</td>\n",
       "      <td>E/450/S</td>\n",
       "      <td>TRAPPIST-1e</td>\n",
       "      <td>30.0</td>\n",
       "      <td>False</td>\n",
       "      <td>768.0</td>\n",
       "      <td>11.0</td>\n",
       "      <td>2010.0</td>\n",
       "      <td>0.0</td>\n",
       "      <td>0.0</td>\n",
       "      <td>Cruses Knik</td>\n",
       "      <td>True</td>\n",
       "    </tr>\n",
       "    <tr>\n",
       "      <th>5967</th>\n",
       "      <td>6324_02</td>\n",
       "      <td>Earth</td>\n",
       "      <td>NaN</td>\n",
       "      <td>G/1025/S</td>\n",
       "      <td>55 Cancri e</td>\n",
       "      <td>44.0</td>\n",
       "      <td>False</td>\n",
       "      <td>0.0</td>\n",
       "      <td>0.0</td>\n",
       "      <td>0.0</td>\n",
       "      <td>0.0</td>\n",
       "      <td>0.0</td>\n",
       "      <td>Murie Hinetthews</td>\n",
       "      <td>True</td>\n",
       "    </tr>\n",
       "    <tr>\n",
       "      <th>4617</th>\n",
       "      <td>4923_01</td>\n",
       "      <td>Mars</td>\n",
       "      <td>True</td>\n",
       "      <td>F/935/S</td>\n",
       "      <td>TRAPPIST-1e</td>\n",
       "      <td>4.0</td>\n",
       "      <td>False</td>\n",
       "      <td>0.0</td>\n",
       "      <td>0.0</td>\n",
       "      <td>0.0</td>\n",
       "      <td>0.0</td>\n",
       "      <td>0.0</td>\n",
       "      <td>Graw Sturt</td>\n",
       "      <td>True</td>\n",
       "    </tr>\n",
       "    <tr>\n",
       "      <th>2173</th>\n",
       "      <td>2319_01</td>\n",
       "      <td>NaN</td>\n",
       "      <td>True</td>\n",
       "      <td>G/373/P</td>\n",
       "      <td>PSO J318.5-22</td>\n",
       "      <td>57.0</td>\n",
       "      <td>False</td>\n",
       "      <td>0.0</td>\n",
       "      <td>0.0</td>\n",
       "      <td>0.0</td>\n",
       "      <td>0.0</td>\n",
       "      <td>0.0</td>\n",
       "      <td>Evendy Estron</td>\n",
       "      <td>False</td>\n",
       "    </tr>\n",
       "    <tr>\n",
       "      <th>2437</th>\n",
       "      <td>2607_03</td>\n",
       "      <td>Europa</td>\n",
       "      <td>False</td>\n",
       "      <td>B/99/S</td>\n",
       "      <td>55 Cancri e</td>\n",
       "      <td>35.0</td>\n",
       "      <td>False</td>\n",
       "      <td>0.0</td>\n",
       "      <td>1471.0</td>\n",
       "      <td>2.0</td>\n",
       "      <td>445.0</td>\n",
       "      <td>533.0</td>\n",
       "      <td>Hekaron Brakepined</td>\n",
       "      <td>True</td>\n",
       "    </tr>\n",
       "    <tr>\n",
       "      <th>2528</th>\n",
       "      <td>2714_01</td>\n",
       "      <td>Earth</td>\n",
       "      <td>False</td>\n",
       "      <td>F/561/P</td>\n",
       "      <td>55 Cancri e</td>\n",
       "      <td>59.0</td>\n",
       "      <td>NaN</td>\n",
       "      <td>269.0</td>\n",
       "      <td>1776.0</td>\n",
       "      <td>0.0</td>\n",
       "      <td>0.0</td>\n",
       "      <td>12.0</td>\n",
       "      <td>Maryn Mcintons</td>\n",
       "      <td>False</td>\n",
       "    </tr>\n",
       "    <tr>\n",
       "      <th>6492</th>\n",
       "      <td>6853_01</td>\n",
       "      <td>Europa</td>\n",
       "      <td>False</td>\n",
       "      <td>C/218/P</td>\n",
       "      <td>55 Cancri e</td>\n",
       "      <td>31.0</td>\n",
       "      <td>False</td>\n",
       "      <td>0.0</td>\n",
       "      <td>1604.0</td>\n",
       "      <td>4058.0</td>\n",
       "      <td>4094.0</td>\n",
       "      <td>124.0</td>\n",
       "      <td>Menkaa Cathome</td>\n",
       "      <td>False</td>\n",
       "    </tr>\n",
       "    <tr>\n",
       "      <th>2852</th>\n",
       "      <td>3081_01</td>\n",
       "      <td>Europa</td>\n",
       "      <td>False</td>\n",
       "      <td>C/118/S</td>\n",
       "      <td>55 Cancri e</td>\n",
       "      <td>50.0</td>\n",
       "      <td>False</td>\n",
       "      <td>0.0</td>\n",
       "      <td>1547.0</td>\n",
       "      <td>0.0</td>\n",
       "      <td>1784.0</td>\n",
       "      <td>1.0</td>\n",
       "      <td>Gollux Reedall</td>\n",
       "      <td>True</td>\n",
       "    </tr>\n",
       "    <tr>\n",
       "      <th>6517</th>\n",
       "      <td>6882_01</td>\n",
       "      <td>Mars</td>\n",
       "      <td>True</td>\n",
       "      <td>F/1430/P</td>\n",
       "      <td>55 Cancri e</td>\n",
       "      <td>32.0</td>\n",
       "      <td>False</td>\n",
       "      <td>0.0</td>\n",
       "      <td>0.0</td>\n",
       "      <td>0.0</td>\n",
       "      <td>0.0</td>\n",
       "      <td>0.0</td>\n",
       "      <td>Rail Dake</td>\n",
       "      <td>True</td>\n",
       "    </tr>\n",
       "    <tr>\n",
       "      <th>2509</th>\n",
       "      <td>2693_04</td>\n",
       "      <td>Europa</td>\n",
       "      <td>True</td>\n",
       "      <td>A/22/P</td>\n",
       "      <td>55 Cancri e</td>\n",
       "      <td>NaN</td>\n",
       "      <td>False</td>\n",
       "      <td>0.0</td>\n",
       "      <td>0.0</td>\n",
       "      <td>0.0</td>\n",
       "      <td>0.0</td>\n",
       "      <td>0.0</td>\n",
       "      <td>Mirfark Geousty</td>\n",
       "      <td>False</td>\n",
       "    </tr>\n",
       "  </tbody>\n",
       "</table>\n",
       "</div>"
      ],
      "text/plain": [
       "     PassengerId HomePlanet CryoSleep     Cabin    Destination   Age    VIP  \\\n",
       "6448     6810_02       Mars     False   E/450/S    TRAPPIST-1e  30.0  False   \n",
       "5967     6324_02      Earth       NaN  G/1025/S    55 Cancri e  44.0  False   \n",
       "4617     4923_01       Mars      True   F/935/S    TRAPPIST-1e   4.0  False   \n",
       "2173     2319_01        NaN      True   G/373/P  PSO J318.5-22  57.0  False   \n",
       "2437     2607_03     Europa     False    B/99/S    55 Cancri e  35.0  False   \n",
       "2528     2714_01      Earth     False   F/561/P    55 Cancri e  59.0    NaN   \n",
       "6492     6853_01     Europa     False   C/218/P    55 Cancri e  31.0  False   \n",
       "2852     3081_01     Europa     False   C/118/S    55 Cancri e  50.0  False   \n",
       "6517     6882_01       Mars      True  F/1430/P    55 Cancri e  32.0  False   \n",
       "2509     2693_04     Europa      True    A/22/P    55 Cancri e   NaN  False   \n",
       "\n",
       "      RoomService  FoodCourt  ShoppingMall     Spa  VRDeck  \\\n",
       "6448        768.0       11.0        2010.0     0.0     0.0   \n",
       "5967          0.0        0.0           0.0     0.0     0.0   \n",
       "4617          0.0        0.0           0.0     0.0     0.0   \n",
       "2173          0.0        0.0           0.0     0.0     0.0   \n",
       "2437          0.0     1471.0           2.0   445.0   533.0   \n",
       "2528        269.0     1776.0           0.0     0.0    12.0   \n",
       "6492          0.0     1604.0        4058.0  4094.0   124.0   \n",
       "2852          0.0     1547.0           0.0  1784.0     1.0   \n",
       "6517          0.0        0.0           0.0     0.0     0.0   \n",
       "2509          0.0        0.0           0.0     0.0     0.0   \n",
       "\n",
       "                    Name  Transported  \n",
       "6448         Cruses Knik         True  \n",
       "5967    Murie Hinetthews         True  \n",
       "4617          Graw Sturt         True  \n",
       "2173       Evendy Estron        False  \n",
       "2437  Hekaron Brakepined         True  \n",
       "2528      Maryn Mcintons        False  \n",
       "6492      Menkaa Cathome        False  \n",
       "2852      Gollux Reedall         True  \n",
       "6517           Rail Dake         True  \n",
       "2509     Mirfark Geousty        False  "
      ]
     },
     "execution_count": 4,
     "metadata": {},
     "output_type": "execute_result"
    }
   ],
   "source": [
    "df_train.sample(10)"
   ]
  },
  {
   "cell_type": "code",
   "execution_count": 5,
   "id": "733d0ed7-35c1-43da-93c2-2492c598a123",
   "metadata": {
    "tags": []
   },
   "outputs": [
    {
     "data": {
      "text/html": [
       "<div>\n",
       "<style scoped>\n",
       "    .dataframe tbody tr th:only-of-type {\n",
       "        vertical-align: middle;\n",
       "    }\n",
       "\n",
       "    .dataframe tbody tr th {\n",
       "        vertical-align: top;\n",
       "    }\n",
       "\n",
       "    .dataframe thead th {\n",
       "        text-align: right;\n",
       "    }\n",
       "</style>\n",
       "<table border=\"1\" class=\"dataframe\">\n",
       "  <thead>\n",
       "    <tr style=\"text-align: right;\">\n",
       "      <th></th>\n",
       "      <th>PassengerId</th>\n",
       "      <th>HomePlanet</th>\n",
       "      <th>CryoSleep</th>\n",
       "      <th>Cabin</th>\n",
       "      <th>Destination</th>\n",
       "      <th>Age</th>\n",
       "      <th>VIP</th>\n",
       "      <th>RoomService</th>\n",
       "      <th>FoodCourt</th>\n",
       "      <th>ShoppingMall</th>\n",
       "      <th>Spa</th>\n",
       "      <th>VRDeck</th>\n",
       "      <th>Name</th>\n",
       "    </tr>\n",
       "  </thead>\n",
       "  <tbody>\n",
       "    <tr>\n",
       "      <th>0</th>\n",
       "      <td>0013_01</td>\n",
       "      <td>Earth</td>\n",
       "      <td>True</td>\n",
       "      <td>G/3/S</td>\n",
       "      <td>TRAPPIST-1e</td>\n",
       "      <td>27.0</td>\n",
       "      <td>False</td>\n",
       "      <td>0.0</td>\n",
       "      <td>0.0</td>\n",
       "      <td>0.0</td>\n",
       "      <td>0.0</td>\n",
       "      <td>0.0</td>\n",
       "      <td>Nelly Carsoning</td>\n",
       "    </tr>\n",
       "    <tr>\n",
       "      <th>1</th>\n",
       "      <td>0018_01</td>\n",
       "      <td>Earth</td>\n",
       "      <td>False</td>\n",
       "      <td>F/4/S</td>\n",
       "      <td>TRAPPIST-1e</td>\n",
       "      <td>19.0</td>\n",
       "      <td>False</td>\n",
       "      <td>0.0</td>\n",
       "      <td>9.0</td>\n",
       "      <td>0.0</td>\n",
       "      <td>2823.0</td>\n",
       "      <td>0.0</td>\n",
       "      <td>Lerome Peckers</td>\n",
       "    </tr>\n",
       "    <tr>\n",
       "      <th>2</th>\n",
       "      <td>0019_01</td>\n",
       "      <td>Europa</td>\n",
       "      <td>True</td>\n",
       "      <td>C/0/S</td>\n",
       "      <td>55 Cancri e</td>\n",
       "      <td>31.0</td>\n",
       "      <td>False</td>\n",
       "      <td>0.0</td>\n",
       "      <td>0.0</td>\n",
       "      <td>0.0</td>\n",
       "      <td>0.0</td>\n",
       "      <td>0.0</td>\n",
       "      <td>Sabih Unhearfus</td>\n",
       "    </tr>\n",
       "    <tr>\n",
       "      <th>3</th>\n",
       "      <td>0021_01</td>\n",
       "      <td>Europa</td>\n",
       "      <td>False</td>\n",
       "      <td>C/1/S</td>\n",
       "      <td>TRAPPIST-1e</td>\n",
       "      <td>38.0</td>\n",
       "      <td>False</td>\n",
       "      <td>0.0</td>\n",
       "      <td>6652.0</td>\n",
       "      <td>0.0</td>\n",
       "      <td>181.0</td>\n",
       "      <td>585.0</td>\n",
       "      <td>Meratz Caltilter</td>\n",
       "    </tr>\n",
       "    <tr>\n",
       "      <th>4</th>\n",
       "      <td>0023_01</td>\n",
       "      <td>Earth</td>\n",
       "      <td>False</td>\n",
       "      <td>F/5/S</td>\n",
       "      <td>TRAPPIST-1e</td>\n",
       "      <td>20.0</td>\n",
       "      <td>False</td>\n",
       "      <td>10.0</td>\n",
       "      <td>0.0</td>\n",
       "      <td>635.0</td>\n",
       "      <td>0.0</td>\n",
       "      <td>0.0</td>\n",
       "      <td>Brence Harperez</td>\n",
       "    </tr>\n",
       "  </tbody>\n",
       "</table>\n",
       "</div>"
      ],
      "text/plain": [
       "  PassengerId HomePlanet CryoSleep  Cabin  Destination   Age    VIP  \\\n",
       "0     0013_01      Earth      True  G/3/S  TRAPPIST-1e  27.0  False   \n",
       "1     0018_01      Earth     False  F/4/S  TRAPPIST-1e  19.0  False   \n",
       "2     0019_01     Europa      True  C/0/S  55 Cancri e  31.0  False   \n",
       "3     0021_01     Europa     False  C/1/S  TRAPPIST-1e  38.0  False   \n",
       "4     0023_01      Earth     False  F/5/S  TRAPPIST-1e  20.0  False   \n",
       "\n",
       "   RoomService  FoodCourt  ShoppingMall     Spa  VRDeck              Name  \n",
       "0          0.0        0.0           0.0     0.0     0.0   Nelly Carsoning  \n",
       "1          0.0        9.0           0.0  2823.0     0.0    Lerome Peckers  \n",
       "2          0.0        0.0           0.0     0.0     0.0   Sabih Unhearfus  \n",
       "3          0.0     6652.0           0.0   181.0   585.0  Meratz Caltilter  \n",
       "4         10.0        0.0         635.0     0.0     0.0   Brence Harperez  "
      ]
     },
     "execution_count": 5,
     "metadata": {},
     "output_type": "execute_result"
    }
   ],
   "source": [
    "df_test.head()"
   ]
  },
  {
   "cell_type": "markdown",
   "id": "556c5393-6e89-48da-ab22-b35dc5c55758",
   "metadata": {
    "tags": []
   },
   "source": [
    "# <a id='4'></a>\n",
    "# **Exploratory Data Analysis**"
   ]
  },
  {
   "cell_type": "markdown",
   "id": "9706f828-25f5-4574-b9d2-937e60355461",
   "metadata": {},
   "source": [
    "<p>train.csv - Personal records for about two-thirds (~8700) of the passengers, to be used as training data.</p>\n",
    "<p>test.csv - Personal records for the remaining one-third (~4300) of the passengers, to be used as test data. Our task is to predict the value of Transported for the passengers in this set.</p>\n",
    "\n",
    "\n",
    "<p><code>PassengerId:</code> A unique Id for each passenger. Each Id takes the form gggg_pp where gggg indicates a group the passenger is travelling with and pp is their number within the group. People in a group are often family members, but not always.</p>\n",
    "<p><code>Transported</code> is the target variable we are trying to predict (0 or 1 / False or True):</p>\n",
    "<p>True = 1 = Transported</p>\n",
    "<p>False = 0 = Not Transported</p>\n",
    "<p><code>CryoSleep</code> - Indicates whether the passenger elected to be put into suspended animation for the duration of the voyage. Passengers in cryosleep are confined to their cabins. (False or True)</p>\n",
    "<p>True = 1 = CryoSleep</p>\n",
    "<p>False = 0 = No CryoSleep</p>\n",
    "<p><code>Cabin</code> - The cabin number where the passenger is staying. Takes the form deck/num/side, where side can be either P for Port or S for Starboard.</p>\n",
    "<p>G (deck: A, B, C, D, E, F, G, T) /1345 (Number) /P (Side: (P) Port or (S) Starboard)</p> \n",
    "<p>A - 1</p>\n",
    "<p>B - 2</p>\n",
    "<p>C - 3</p>\n",
    "<p>D - 4</p>\n",
    "<p>E - 5</p>\n",
    "<p>F - 6</p>\n",
    "<p>G - 7</p>\n",
    "<p>T - 8</p>\n",
    "<p><code>Destination</code> - The planet the passenger will be debarking to.</p>\n",
    "<p><code>Age</code> - The age of the passenger.</p>\n",
    "<p><code>VIP</code> - Whether the passenger has paid for special VIP service during the voyage.</p>\n",
    "<p><code>RoomService, FoodCourt, ShoppingMall, Spa, VRDeck</code> - Amount the passenger has billed at each of the Spaceship Titanic's many luxury amenities.</p>\n",
    "<p><code>Name</code> - The first and last names of the passenger.</p>\n",
    "\n",
    "I used the following code to get the types of fields in the files and other detailed information. I have listed the information that I find important.\n"
   ]
  },
  {
   "cell_type": "code",
   "execution_count": 6,
   "id": "fc2e8a7a-9129-4a2d-98ed-c2760071c2b6",
   "metadata": {
    "tags": []
   },
   "outputs": [
    {
     "name": "stdout",
     "output_type": "stream",
     "text": [
      "Number of Training Examples = 8693\n",
      "Number of Test Examples = 4277\n",
      "\n",
      "Training X Shape = (8693, 14)\n",
      "Training y Shape = 8693\n",
      "\n",
      "Test X Shape = (4277, 13)\n",
      "Test y Shape = 4277\n",
      "\n",
      "Index(['PassengerId', 'HomePlanet', 'CryoSleep', 'Cabin', 'Destination', 'Age',\n",
      "       'VIP', 'RoomService', 'FoodCourt', 'ShoppingMall', 'Spa', 'VRDeck',\n",
      "       'Name', 'Transported'],\n",
      "      dtype='object')\n",
      "Index(['PassengerId', 'HomePlanet', 'CryoSleep', 'Cabin', 'Destination', 'Age',\n",
      "       'VIP', 'RoomService', 'FoodCourt', 'ShoppingMall', 'Spa', 'VRDeck',\n",
      "       'Name'],\n",
      "      dtype='object')\n",
      "<class 'pandas.core.frame.DataFrame'>\n",
      "RangeIndex: 8693 entries, 0 to 8692\n",
      "Data columns (total 14 columns):\n",
      " #   Column        Non-Null Count  Dtype  \n",
      "---  ------        --------------  -----  \n",
      " 0   PassengerId   8693 non-null   object \n",
      " 1   HomePlanet    8492 non-null   object \n",
      " 2   CryoSleep     8476 non-null   object \n",
      " 3   Cabin         8494 non-null   object \n",
      " 4   Destination   8511 non-null   object \n",
      " 5   Age           8514 non-null   float64\n",
      " 6   VIP           8490 non-null   object \n",
      " 7   RoomService   8512 non-null   float64\n",
      " 8   FoodCourt     8510 non-null   float64\n",
      " 9   ShoppingMall  8485 non-null   float64\n",
      " 10  Spa           8510 non-null   float64\n",
      " 11  VRDeck        8505 non-null   float64\n",
      " 12  Name          8493 non-null   object \n",
      " 13  Transported   8693 non-null   bool   \n",
      "dtypes: bool(1), float64(6), object(7)\n",
      "memory usage: 891.5+ KB\n",
      "None\n",
      "               Age   RoomService     FoodCourt  ShoppingMall           Spa  \\\n",
      "count  8514.000000   8512.000000   8510.000000   8485.000000   8510.000000   \n",
      "mean     28.827930    224.687617    458.077203    173.729169    311.138778   \n",
      "std      14.489021    666.717663   1611.489240    604.696458   1136.705535   \n",
      "min       0.000000      0.000000      0.000000      0.000000      0.000000   \n",
      "25%      19.000000      0.000000      0.000000      0.000000      0.000000   \n",
      "50%      27.000000      0.000000      0.000000      0.000000      0.000000   \n",
      "75%      38.000000     47.000000     76.000000     27.000000     59.000000   \n",
      "max      79.000000  14327.000000  29813.000000  23492.000000  22408.000000   \n",
      "\n",
      "             VRDeck  \n",
      "count   8505.000000  \n",
      "mean     304.854791  \n",
      "std     1145.717189  \n",
      "min        0.000000  \n",
      "25%        0.000000  \n",
      "50%        0.000000  \n",
      "75%       46.000000  \n",
      "max    24133.000000  \n"
     ]
    },
    {
     "data": {
      "text/html": [
       "<div>\n",
       "<style scoped>\n",
       "    .dataframe tbody tr th:only-of-type {\n",
       "        vertical-align: middle;\n",
       "    }\n",
       "\n",
       "    .dataframe tbody tr th {\n",
       "        vertical-align: top;\n",
       "    }\n",
       "\n",
       "    .dataframe thead th {\n",
       "        text-align: right;\n",
       "    }\n",
       "</style>\n",
       "<table border=\"1\" class=\"dataframe\">\n",
       "  <thead>\n",
       "    <tr style=\"text-align: right;\">\n",
       "      <th></th>\n",
       "      <th>PassengerId</th>\n",
       "      <th>HomePlanet</th>\n",
       "      <th>CryoSleep</th>\n",
       "      <th>Cabin</th>\n",
       "      <th>Destination</th>\n",
       "      <th>Age</th>\n",
       "      <th>VIP</th>\n",
       "      <th>RoomService</th>\n",
       "      <th>FoodCourt</th>\n",
       "      <th>ShoppingMall</th>\n",
       "      <th>Spa</th>\n",
       "      <th>VRDeck</th>\n",
       "      <th>Name</th>\n",
       "      <th>Transported</th>\n",
       "    </tr>\n",
       "  </thead>\n",
       "  <tbody>\n",
       "    <tr>\n",
       "      <th>915</th>\n",
       "      <td>0984_06</td>\n",
       "      <td>Earth</td>\n",
       "      <td>True</td>\n",
       "      <td>G/150/S</td>\n",
       "      <td>TRAPPIST-1e</td>\n",
       "      <td>22.0</td>\n",
       "      <td>False</td>\n",
       "      <td>0.0</td>\n",
       "      <td>0.0</td>\n",
       "      <td>0.0</td>\n",
       "      <td>0.0</td>\n",
       "      <td>0.0</td>\n",
       "      <td>Walley Sweekstarks</td>\n",
       "      <td>True</td>\n",
       "    </tr>\n",
       "    <tr>\n",
       "      <th>7843</th>\n",
       "      <td>8369_02</td>\n",
       "      <td>Mars</td>\n",
       "      <td>False</td>\n",
       "      <td>E/549/S</td>\n",
       "      <td>TRAPPIST-1e</td>\n",
       "      <td>57.0</td>\n",
       "      <td>True</td>\n",
       "      <td>435.0</td>\n",
       "      <td>22.0</td>\n",
       "      <td>1435.0</td>\n",
       "      <td>4.0</td>\n",
       "      <td>0.0</td>\n",
       "      <td>Halesh Pette</td>\n",
       "      <td>True</td>\n",
       "    </tr>\n",
       "    <tr>\n",
       "      <th>2876</th>\n",
       "      <td>3111_01</td>\n",
       "      <td>Mars</td>\n",
       "      <td>False</td>\n",
       "      <td>D/95/P</td>\n",
       "      <td>TRAPPIST-1e</td>\n",
       "      <td>22.0</td>\n",
       "      <td>False</td>\n",
       "      <td>1173.0</td>\n",
       "      <td>0.0</td>\n",
       "      <td>0.0</td>\n",
       "      <td>9.0</td>\n",
       "      <td>0.0</td>\n",
       "      <td>Goles Ramad</td>\n",
       "      <td>False</td>\n",
       "    </tr>\n",
       "    <tr>\n",
       "      <th>8460</th>\n",
       "      <td>9034_04</td>\n",
       "      <td>Europa</td>\n",
       "      <td>False</td>\n",
       "      <td>D/288/P</td>\n",
       "      <td>TRAPPIST-1e</td>\n",
       "      <td>60.0</td>\n",
       "      <td>False</td>\n",
       "      <td>0.0</td>\n",
       "      <td>NaN</td>\n",
       "      <td>947.0</td>\n",
       "      <td>668.0</td>\n",
       "      <td>1.0</td>\n",
       "      <td>NaN</td>\n",
       "      <td>True</td>\n",
       "    </tr>\n",
       "    <tr>\n",
       "      <th>2792</th>\n",
       "      <td>3014_01</td>\n",
       "      <td>Europa</td>\n",
       "      <td>False</td>\n",
       "      <td>C/115/S</td>\n",
       "      <td>55 Cancri e</td>\n",
       "      <td>40.0</td>\n",
       "      <td>False</td>\n",
       "      <td>82.0</td>\n",
       "      <td>1390.0</td>\n",
       "      <td>0.0</td>\n",
       "      <td>347.0</td>\n",
       "      <td>6237.0</td>\n",
       "      <td>Alduson Oilpuring</td>\n",
       "      <td>False</td>\n",
       "    </tr>\n",
       "  </tbody>\n",
       "</table>\n",
       "</div>"
      ],
      "text/plain": [
       "     PassengerId HomePlanet CryoSleep    Cabin  Destination   Age    VIP  \\\n",
       "915      0984_06      Earth      True  G/150/S  TRAPPIST-1e  22.0  False   \n",
       "7843     8369_02       Mars     False  E/549/S  TRAPPIST-1e  57.0   True   \n",
       "2876     3111_01       Mars     False   D/95/P  TRAPPIST-1e  22.0  False   \n",
       "8460     9034_04     Europa     False  D/288/P  TRAPPIST-1e  60.0  False   \n",
       "2792     3014_01     Europa     False  C/115/S  55 Cancri e  40.0  False   \n",
       "\n",
       "      RoomService  FoodCourt  ShoppingMall    Spa  VRDeck                Name  \\\n",
       "915           0.0        0.0           0.0    0.0     0.0  Walley Sweekstarks   \n",
       "7843        435.0       22.0        1435.0    4.0     0.0        Halesh Pette   \n",
       "2876       1173.0        0.0           0.0    9.0     0.0         Goles Ramad   \n",
       "8460          0.0        NaN         947.0  668.0     1.0                 NaN   \n",
       "2792         82.0     1390.0           0.0  347.0  6237.0   Alduson Oilpuring   \n",
       "\n",
       "      Transported  \n",
       "915          True  \n",
       "7843         True  \n",
       "2876        False  \n",
       "8460         True  \n",
       "2792        False  "
      ]
     },
     "execution_count": 6,
     "metadata": {},
     "output_type": "execute_result"
    }
   ],
   "source": [
    "# display information about datasets\n",
    "print('Number of Training Examples = {}'.format(df_train.shape[0]))\n",
    "print('Number of Test Examples = {}\\n'.format(df_test.shape[0]))\n",
    "print('Training X Shape = {}'.format(df_train.shape))\n",
    "print('Training y Shape = {}\\n'.format(df_train['Transported'].shape[0]))\n",
    "print('Test X Shape = {}'.format(df_test.shape))\n",
    "print('Test y Shape = {}\\n'.format(df_test.shape[0]))\n",
    "print(df_train.columns)\n",
    "print(df_test.columns)\n",
    "print(df_train.info())\n",
    "print(df_train.describe())\n",
    "df_train.sample(5)"
   ]
  },
  {
   "cell_type": "markdown",
   "id": "b8be1981-56b8-4fda-aae8-a2540c01d10a",
   "metadata": {},
   "source": [
    "I used the code below to see which features the non-existent (NaN) information belongs to and their statistics."
   ]
  },
  {
   "cell_type": "code",
   "execution_count": 7,
   "id": "ef70f6a0-61f7-4a19-a016-d1aeaac06549",
   "metadata": {
    "tags": []
   },
   "outputs": [
    {
     "name": "stdout",
     "output_type": "stream",
     "text": [
      "Training Set\n",
      "PassengerId column missing values: 0\n",
      "HomePlanet column missing values: 201\n",
      "CryoSleep column missing values: 217\n",
      "Cabin column missing values: 199\n",
      "Destination column missing values: 182\n",
      "Age column missing values: 179\n",
      "VIP column missing values: 203\n",
      "RoomService column missing values: 181\n",
      "FoodCourt column missing values: 183\n",
      "ShoppingMall column missing values: 208\n",
      "Spa column missing values: 183\n",
      "VRDeck column missing values: 188\n",
      "Name column missing values: 200\n",
      "Transported column missing values: 0\n",
      "\n",
      "\n",
      "Test Set\n",
      "PassengerId column missing values: 0\n",
      "HomePlanet column missing values: 87\n",
      "CryoSleep column missing values: 93\n",
      "Cabin column missing values: 100\n",
      "Destination column missing values: 92\n",
      "Age column missing values: 91\n",
      "VIP column missing values: 93\n",
      "RoomService column missing values: 82\n",
      "FoodCourt column missing values: 106\n",
      "ShoppingMall column missing values: 98\n",
      "Spa column missing values: 101\n",
      "VRDeck column missing values: 80\n",
      "Name column missing values: 94\n",
      "\n",
      "\n"
     ]
    }
   ],
   "source": [
    "# function to analyze each column of the dataframe\n",
    "def display_missing(df):    \n",
    "    for col in df.columns.tolist():          \n",
    "        print('{} column missing values: {}'.format(col, df[col].isnull().sum()))\n",
    "    print('\\n')\n",
    "    \n",
    "for df in dfs:\n",
    "    print('{}'.format(df.name))\n",
    "    display_missing(df)"
   ]
  },
  {
   "cell_type": "markdown",
   "id": "e0927ceb-1020-4f54-a02f-bb5117260180",
   "metadata": {},
   "source": [
    "I made the necessary cleaning and adjustments to plot the correlation graph to see which features were heavily correlated with which features. On the one hand, these procedures also facilitated the data editing operations I would do in the future. I made the necessary cleaning and adjustments to plot the correlation graph to see which features were heavily correlated with which features. On the one hand, these procedures also facilitated the data editing operations I would do in the future. I used the SimpleImpute method in sklearn.impute to fill in the missing data. I used the \"median\" method as the filling strategy. (NanStrategy)"
   ]
  },
  {
   "cell_type": "code",
   "execution_count": 8,
   "id": "99710bb3-fa60-4ae9-b53a-2bccc3592b9a",
   "metadata": {
    "tags": []
   },
   "outputs": [],
   "source": [
    "#Correlation Between The Features\n",
    "df1_heat=df_train[:]\n",
    "NanStrategy=\"median\""
   ]
  },
  {
   "cell_type": "code",
   "execution_count": 9,
   "id": "809b95c8-0c9f-4031-a4fd-ba051259d65e",
   "metadata": {
    "tags": []
   },
   "outputs": [],
   "source": [
    "#Transported Column to Boolean\n",
    "df1_heat[\"Transported\"]=df1_heat[\"Transported\"].astype(int)"
   ]
  },
  {
   "cell_type": "code",
   "execution_count": 10,
   "id": "e32e7800-c444-4f13-8f2f-010516c41ba1",
   "metadata": {
    "tags": []
   },
   "outputs": [],
   "source": [
    "#VIP or NOT to Boolean\n",
    "X = df1_heat.iloc[:, 6].values\n",
    "X= X.reshape(-1, 1)\n",
    "# To calculate median (NanStrategy) use imputer class\n",
    "imputer = SimpleImputer(missing_values=np.nan, strategy=NanStrategy)\n",
    "imputer = imputer.fit(X)\n",
    "X = imputer.transform(X)\n",
    "df1_heat[\"VIP\"]=X"
   ]
  },
  {
   "cell_type": "code",
   "execution_count": 11,
   "id": "4d3debbc-014d-4dfe-999d-8b7d4d188c98",
   "metadata": {
    "tags": []
   },
   "outputs": [],
   "source": [
    "#CryoSleep or NOT\n",
    "X = df1_heat.iloc[:, 2].values\n",
    "X= X.reshape(-1, 1)\n",
    "# To calculate median (NanStrategy) use imputer class\n",
    "imputer = SimpleImputer(missing_values=np.nan, strategy=NanStrategy)\n",
    "imputer = imputer.fit(X)\n",
    "X = imputer.transform(X)\n",
    "df1_heat[\"CryoSleep\"]=X"
   ]
  },
  {
   "cell_type": "code",
   "execution_count": 12,
   "id": "22e1c571-9217-459a-8bfd-91f715e17ab8",
   "metadata": {
    "tags": []
   },
   "outputs": [],
   "source": [
    "#Luxury - RoomService\n",
    "X = df1_heat.iloc[:, 7].values\n",
    "X= X.reshape(-1, 1)\n",
    "# To calculate median (NanStrategy) use imputer class\n",
    "imputer = SimpleImputer(missing_values=np.nan, strategy=NanStrategy)\n",
    "imputer = imputer.fit(X)\n",
    "X = imputer.transform(X)\n",
    "df1_heat[\"RoomService\"]=X"
   ]
  },
  {
   "cell_type": "code",
   "execution_count": 13,
   "id": "8955eaba-2c48-46b1-ae62-a3002ead3a80",
   "metadata": {
    "tags": []
   },
   "outputs": [],
   "source": [
    "#Luxury - FoodCourt\n",
    "X = df1_heat.iloc[:, 8].values\n",
    "X= X.reshape(-1, 1)\n",
    "# To calculate median (NanStrategy) use imputer class\n",
    "imputer = SimpleImputer(missing_values=np.nan, strategy=NanStrategy)\n",
    "imputer = imputer.fit(X)\n",
    "X = imputer.transform(X)\n",
    "df1_heat[\"FoodCourt\"]=X"
   ]
  },
  {
   "cell_type": "code",
   "execution_count": 14,
   "id": "c6291e76-f28e-4cfe-b240-3b68063caa4c",
   "metadata": {
    "tags": []
   },
   "outputs": [],
   "source": [
    "#Luxury - ShoppingMall\n",
    "X = df1_heat.iloc[:, 9].values\n",
    "X= X.reshape(-1, 1)\n",
    "# To calculate median (NanStrategy) use imputer class\n",
    "imputer = SimpleImputer(missing_values=np.nan, strategy=NanStrategy)\n",
    "imputer = imputer.fit(X)\n",
    "X = imputer.transform(X)\n",
    "df1_heat[\"ShoppingMall\"]=X"
   ]
  },
  {
   "cell_type": "code",
   "execution_count": 15,
   "id": "fcbec2a4-86e8-4bce-8c1c-1daed825dda5",
   "metadata": {
    "tags": []
   },
   "outputs": [],
   "source": [
    "#Luxury - Spa\n",
    "X = df1_heat.iloc[:, 10].values\n",
    "X= X.reshape(-1, 1)\n",
    "# To calculate median (NanStrategy) use imputer class\n",
    "imputer = SimpleImputer(missing_values=np.nan, strategy=NanStrategy)\n",
    "imputer = imputer.fit(X)\n",
    "X = imputer.transform(X)\n",
    "df1_heat[\"Spa\"]=X"
   ]
  },
  {
   "cell_type": "code",
   "execution_count": 16,
   "id": "341c21e5-65fa-40b4-a98d-2d81f110d63f",
   "metadata": {
    "tags": []
   },
   "outputs": [],
   "source": [
    "#Luxury - VRDeck\n",
    "X = df1_heat.iloc[:, 11].values\n",
    "X= X.reshape(-1, 1)\n",
    "# To calculate median (NanStrategy) use imputer class\n",
    "imputer = SimpleImputer(missing_values=np.nan, strategy=NanStrategy)\n",
    "imputer = imputer.fit(X)\n",
    "X = imputer.transform(X)\n",
    "df1_heat[\"VRDeck\"]=X"
   ]
  },
  {
   "cell_type": "markdown",
   "id": "359cb033-75ce-441f-97ce-d13a14bcc8cc",
   "metadata": {},
   "source": [
    "Since I accept that the expenses made in the Room Service, Food Court, Shopping Mall, VRDeck and Spa sections are made by VIP passengers, I added a new feature called Luxury and collected them here."
   ]
  },
  {
   "cell_type": "code",
   "execution_count": 17,
   "id": "1ae92546-eff0-49b0-9f29-f245d726c19e",
   "metadata": {
    "tags": []
   },
   "outputs": [],
   "source": [
    "#Luxury Total\n",
    "df1_heat[\"Luxury\"]=df1_heat[\"RoomService\"]+df1_heat[\"FoodCourt\"]+df1_heat[\"ShoppingMall\"]+df1_heat[\"VRDeck\"]+df1_heat[\"Spa\"]"
   ]
  },
  {
   "cell_type": "markdown",
   "id": "30a9dbf3-e522-4ab4-9f36-ee32fe3fc768",
   "metadata": {},
   "source": [
    "I considered the first character of the data in the Cabin column to be \"CabinSegment\". I implemented the following code to convert these to numbers. The code renumbers the received string value to its ASCII code equivalent. Again, I used the SimpleImpute method to fill in the missing values."
   ]
  },
  {
   "cell_type": "code",
   "execution_count": 18,
   "id": "c5bb74da-f2e9-48df-9a6e-5b5dd0690667",
   "metadata": {
    "tags": []
   },
   "outputs": [],
   "source": [
    "#CabinSegment A,B,C,D,E,F,G,T Nan Values Evaluate\n",
    "df1_heat['CabinSegment']=df1_heat[\"Cabin\"].astype(str)\n",
    "df1_heat['CabinSegment']=df1_heat[\"CabinSegment\"].str[0]\n",
    "df1_heat['CabinSegment'] = [ ord(x)-64 for x in df1_heat['CabinSegment'] ]\n",
    "df1_heat['CabinSegment'] = df1_heat['CabinSegment'].replace(46,np.nan)\n",
    "df1_heat['CabinSegment'] = df1_heat['CabinSegment'].replace(20,8)\n",
    "X = df1_heat.iloc[:, 15].values\n",
    "X= X.reshape(-1, 1)\n",
    "# To calculate median (NanStrategy) use imputer class\n",
    "imputer = SimpleImputer(missing_values=np.nan, strategy=NanStrategy)\n",
    "imputer = imputer.fit(X)\n",
    "X = imputer.transform(X)\n",
    "df1_heat[\"CabinSegment\"]=X"
   ]
  },
  {
   "cell_type": "markdown",
   "id": "d4e69ede-7ba3-43af-b879-6c168f983195",
   "metadata": {},
   "source": [
    "I considered the last character of the Cabin column to be \"CabinClass\". I applied a similar method to the one I used for CabinSegment. Notice that I made the texts numerical."
   ]
  },
  {
   "cell_type": "code",
   "execution_count": 19,
   "id": "ade37999-2c98-45bf-9eac-2f7b74ed21e6",
   "metadata": {
    "tags": []
   },
   "outputs": [],
   "source": [
    "df1_heat['CabinClass']=df1_heat[\"Cabin\"].astype(str)\n",
    "df1_heat['CabinClass']=df1_heat[\"CabinClass\"].str[-1]\n",
    "df1_heat['CabinClass'] = [ ord(x)-64 for x in df1_heat['CabinClass'] ]\n",
    "df1_heat['CabinClass'] = df1_heat['CabinClass'].replace(19,1)\n",
    "df1_heat['CabinClass'] = df1_heat['CabinClass'].replace(16,2)\n",
    "df1_heat['CabinClass'] = df1_heat['CabinClass'].replace(46,np.nan)\n",
    "X = df1_heat.iloc[:, 16].values\n",
    "X= X.reshape(-1, 1)\n",
    "# To calculate median (NanStrategy) use imputer class\n",
    "imputer = SimpleImputer(missing_values=np.nan, strategy=NanStrategy)\n",
    "imputer = imputer.fit(X)\n",
    "X = imputer.transform(X)\n",
    "df1_heat[\"CabinClass\"]=X"
   ]
  },
  {
   "cell_type": "markdown",
   "id": "1ae9dd0b-c294-4309-b975-76c15c0f53b5",
   "metadata": {},
   "source": [
    "We make the data in the destination column numeric. In the same way, we fill in the missing data with the median."
   ]
  },
  {
   "cell_type": "code",
   "execution_count": 20,
   "id": "051c96b9-d605-4931-97ab-e00f15499b93",
   "metadata": {
    "tags": []
   },
   "outputs": [],
   "source": [
    "#Destination  TRAPPIST-1e=1 PSO J318.5-22=2 55 Cancri e=3\n",
    "df1_heat['Destination']=df1_heat[\"Destination\"].astype(str)\n",
    "df1_heat['Destination']=df1_heat[\"Destination\"].str[0]\n",
    "df1_heat[\"Destination\"]= [ ord(x)-64 for x in df1_heat['Destination'] ]\n",
    "df1_heat['Destination'] = df1_heat['Destination'].replace(20,1)\n",
    "df1_heat['Destination'] = df1_heat['Destination'].replace(16,2)\n",
    "df1_heat['Destination'] = df1_heat['Destination'].replace(-11,2)\n",
    "df1_heat['Destination'] = df1_heat['Destination'].replace(46,np.nan)\n",
    "X = df1_heat.iloc[:, 4].values\n",
    "X= X.reshape(-1, 1)\n",
    "# To calculate median (NanStrategy) use imputer class\n",
    "imputer = SimpleImputer(missing_values=np.nan, strategy=NanStrategy)\n",
    "imputer = imputer.fit(X)\n",
    "X = imputer.transform(X)\n",
    "df1_heat[\"Destination\"]=X"
   ]
  },
  {
   "cell_type": "markdown",
   "id": "8edc326d-b0c4-4d06-a2d2-923ddc0ba841",
   "metadata": {},
   "source": [
    "We looked at the first character of the data from the beginning when converting the numbers. Since there were similar names (Earth, Europa) in the HomePlanet column, I took multiple characters [0:2], added the numbers corresponding to their ascii code, and replaced them with numeric values. I used the SimpeImpute median value for missing values."
   ]
  },
  {
   "cell_type": "code",
   "execution_count": 21,
   "id": "f0900ec6-8730-4643-884f-c36340d91380",
   "metadata": {
    "tags": []
   },
   "outputs": [],
   "source": [
    "#HomePlanet Earth=1 Europa=2 Mars=3 \n",
    "df1_heat['HomePlanet']=df1_heat[\"HomePlanet\"].astype(str)\n",
    "df1_heat['HomePlanet']=df1_heat[\"HomePlanet\"].str[0:2]\n",
    "df1_heat[\"HomePlanet\"]= [ ord(x[0])-64+ord(x[1])-64 for x in df1_heat['HomePlanet'] ]\n",
    "df1_heat['HomePlanet'] = df1_heat['HomePlanet'].replace(38,1)\n",
    "df1_heat['HomePlanet'] = df1_heat['HomePlanet'].replace(58,2)\n",
    "df1_heat['HomePlanet'] = df1_heat['HomePlanet'].replace(46,3)\n",
    "df1_heat['HomePlanet'] = df1_heat['HomePlanet'].replace(79,np.nan)\n",
    "X = df1_heat.iloc[:, 1].values\n",
    "X= X.reshape(-1, 1)\n",
    "# To calculate median (NanStrategy) use imputer class\n",
    "imputer = SimpleImputer(missing_values=np.nan, strategy=NanStrategy)\n",
    "imputer = imputer.fit(X)\n",
    "X = imputer.transform(X)\n",
    "df1_heat[\"HomePlanet\"]=X"
   ]
  },
  {
   "cell_type": "markdown",
   "id": "0f549b63-40c6-454c-848f-e2441f7a9ce2",
   "metadata": {
    "tags": []
   },
   "source": [
    "I used the median method in SimpleImputer to calculate the missing age value."
   ]
  },
  {
   "cell_type": "code",
   "execution_count": 22,
   "id": "947307c7-60b6-44a2-a33d-5da8dc849527",
   "metadata": {
    "tags": []
   },
   "outputs": [],
   "source": [
    "#Age\n",
    "X = df1_heat.iloc[:, 5].values\n",
    "X= X.reshape(-1, 1)\n",
    "# To calculate median (NanStrategy) use imputer class\n",
    "imputer = SimpleImputer(missing_values=np.nan, strategy=NanStrategy)\n",
    "imputer = imputer.fit(X)\n",
    "X = imputer.transform(X)\n",
    "df1_heat[\"Age\"]=X"
   ]
  },
  {
   "cell_type": "markdown",
   "id": "85bd5d97-eac9-4cda-adba-1a8c802e3e29",
   "metadata": {},
   "source": [
    "The first 4 characters of the PassengerId value indicate whether the person is part of a group. Using this, I determined whether the person was traveling alone or not. For this, I used three columns named \"GroupID\", \"InGroup\" and \"Alone\". Finally, we look at the column names of the df1_heat dataframe I am working on."
   ]
  },
  {
   "cell_type": "code",
   "execution_count": 23,
   "id": "17838731-9b76-4829-9efc-0287c3f072e5",
   "metadata": {
    "tags": []
   },
   "outputs": [
    {
     "data": {
      "text/plain": [
       "Index(['PassengerId', 'HomePlanet', 'CryoSleep', 'Cabin', 'Destination', 'Age',\n",
       "       'VIP', 'RoomService', 'FoodCourt', 'ShoppingMall', 'Spa', 'VRDeck',\n",
       "       'Name', 'Transported', 'Luxury', 'CabinSegment', 'CabinClass',\n",
       "       'GroupID', 'InGroup', 'Alone'],\n",
       "      dtype='object')"
      ]
     },
     "execution_count": 23,
     "metadata": {},
     "output_type": "execute_result"
    }
   ],
   "source": [
    "#from PessengerID Alone or Not\n",
    "df1_heat['GroupID'] = df1_heat['PassengerId'].str[0:4]\n",
    "df1_heat['InGroup']=df1_heat['GroupID'].apply(lambda x : (x, list(df1_heat['GroupID']).count(x))[1])\n",
    "df1_heat['Alone']=df1_heat['InGroup'].apply(lambda x : 0 if x>1 else 1 )\n",
    "df1_heat.columns"
   ]
  },
  {
   "cell_type": "markdown",
   "id": "d3d268ee-8ef0-4d98-9b46-286019318f36",
   "metadata": {},
   "source": [
    "I remove columns that I think are unnecessary."
   ]
  },
  {
   "cell_type": "code",
   "execution_count": 24,
   "id": "8e223fca-4263-430b-8ba8-405964fc51da",
   "metadata": {
    "tags": []
   },
   "outputs": [],
   "source": [
    "df1_heat=df1_heat.drop(columns=[\"Cabin\",\"RoomService\",\"FoodCourt\",\"ShoppingMall\",\"Spa\",\"VRDeck\",\"Name\",\"GroupID\",\"InGroup\"])"
   ]
  },
  {
   "cell_type": "markdown",
   "id": "aa80abe7-12ac-4a9c-a0a3-65874bedf2ee",
   "metadata": {},
   "source": [
    "By drawing a heatmap graph, we can see which feature is more related to which. It's not hard to see the relationship between Transported-CryoSleep and Transported-Luxury. Below the graph is the final version of the df1_heat dataframe and sample data."
   ]
  },
  {
   "cell_type": "code",
   "execution_count": 25,
   "id": "3b340d70-e100-4faf-b17a-051214a25d1a",
   "metadata": {
    "tags": []
   },
   "outputs": [
    {
     "data": {
      "image/png": "[encoded data removed]",
      "text/plain": [
       "<Figure size 1000x800 with 2 Axes>"
      ]
     },
     "metadata": {},
     "output_type": "display_data"
    },
    {
     "data": {
      "text/html": [
       "<div>\n",
       "<style scoped>\n",
       "    .dataframe tbody tr th:only-of-type {\n",
       "        vertical-align: middle;\n",
       "    }\n",
       "\n",
       "    .dataframe tbody tr th {\n",
       "        vertical-align: top;\n",
       "    }\n",
       "\n",
       "    .dataframe thead th {\n",
       "        text-align: right;\n",
       "    }\n",
       "</style>\n",
       "<table border=\"1\" class=\"dataframe\">\n",
       "  <thead>\n",
       "    <tr style=\"text-align: right;\">\n",
       "      <th></th>\n",
       "      <th>PassengerId</th>\n",
       "      <th>HomePlanet</th>\n",
       "      <th>CryoSleep</th>\n",
       "      <th>Destination</th>\n",
       "      <th>Age</th>\n",
       "      <th>VIP</th>\n",
       "      <th>Transported</th>\n",
       "      <th>Luxury</th>\n",
       "      <th>CabinSegment</th>\n",
       "      <th>CabinClass</th>\n",
       "      <th>Alone</th>\n",
       "    </tr>\n",
       "  </thead>\n",
       "  <tbody>\n",
       "    <tr>\n",
       "      <th>3902</th>\n",
       "      <td>4176_04</td>\n",
       "      <td>3.0</td>\n",
       "      <td>0.0</td>\n",
       "      <td>1.0</td>\n",
       "      <td>38.0</td>\n",
       "      <td>0.0</td>\n",
       "      <td>0</td>\n",
       "      <td>2366.0</td>\n",
       "      <td>6.0</td>\n",
       "      <td>2.0</td>\n",
       "      <td>0</td>\n",
       "    </tr>\n",
       "    <tr>\n",
       "      <th>8195</th>\n",
       "      <td>8760_01</td>\n",
       "      <td>1.0</td>\n",
       "      <td>0.0</td>\n",
       "      <td>1.0</td>\n",
       "      <td>22.0</td>\n",
       "      <td>0.0</td>\n",
       "      <td>0</td>\n",
       "      <td>804.0</td>\n",
       "      <td>6.0</td>\n",
       "      <td>1.0</td>\n",
       "      <td>1</td>\n",
       "    </tr>\n",
       "    <tr>\n",
       "      <th>7583</th>\n",
       "      <td>8106_01</td>\n",
       "      <td>1.0</td>\n",
       "      <td>1.0</td>\n",
       "      <td>2.0</td>\n",
       "      <td>49.0</td>\n",
       "      <td>0.0</td>\n",
       "      <td>1</td>\n",
       "      <td>0.0</td>\n",
       "      <td>7.0</td>\n",
       "      <td>1.0</td>\n",
       "      <td>1</td>\n",
       "    </tr>\n",
       "    <tr>\n",
       "      <th>426</th>\n",
       "      <td>0460_01</td>\n",
       "      <td>1.0</td>\n",
       "      <td>1.0</td>\n",
       "      <td>2.0</td>\n",
       "      <td>24.0</td>\n",
       "      <td>0.0</td>\n",
       "      <td>1</td>\n",
       "      <td>0.0</td>\n",
       "      <td>7.0</td>\n",
       "      <td>1.0</td>\n",
       "      <td>1</td>\n",
       "    </tr>\n",
       "    <tr>\n",
       "      <th>502</th>\n",
       "      <td>0539_04</td>\n",
       "      <td>2.0</td>\n",
       "      <td>1.0</td>\n",
       "      <td>1.0</td>\n",
       "      <td>49.0</td>\n",
       "      <td>0.0</td>\n",
       "      <td>1</td>\n",
       "      <td>0.0</td>\n",
       "      <td>3.0</td>\n",
       "      <td>2.0</td>\n",
       "      <td>0</td>\n",
       "    </tr>\n",
       "  </tbody>\n",
       "</table>\n",
       "</div>"
      ],
      "text/plain": [
       "     PassengerId  HomePlanet  CryoSleep  Destination   Age  VIP  Transported  \\\n",
       "3902     4176_04         3.0        0.0          1.0  38.0  0.0            0   \n",
       "8195     8760_01         1.0        0.0          1.0  22.0  0.0            0   \n",
       "7583     8106_01         1.0        1.0          2.0  49.0  0.0            1   \n",
       "426      0460_01         1.0        1.0          2.0  24.0  0.0            1   \n",
       "502      0539_04         2.0        1.0          1.0  49.0  0.0            1   \n",
       "\n",
       "      Luxury  CabinSegment  CabinClass  Alone  \n",
       "3902  2366.0           6.0         2.0      0  \n",
       "8195   804.0           6.0         1.0      1  \n",
       "7583     0.0           7.0         1.0      1  \n",
       "426      0.0           7.0         1.0      1  \n",
       "502      0.0           3.0         2.0      0  "
      ]
     },
     "execution_count": 25,
     "metadata": {},
     "output_type": "execute_result"
    }
   ],
   "source": [
    "sns.heatmap(df1_heat.corr(),annot=True,cmap='RdYlGn',linewidths=0.2)\n",
    "fig=plt.gcf()\n",
    "fig.set_size_inches(10,8)\n",
    "plt.show()\n",
    "df1_heat.sample(5)"
   ]
  },
  {
   "cell_type": "markdown",
   "id": "53aa663c-a01a-404d-86eb-2c01ef54f8cc",
   "metadata": {},
   "source": [
    "I drew a column chart to see the passengers who were transported and those who were not."
   ]
  },
  {
   "cell_type": "code",
   "execution_count": 26,
   "id": "603efea3-1507-4c73-a95c-9b6442f4d95b",
   "metadata": {
    "tags": []
   },
   "outputs": [
    {
     "name": "stdout",
     "output_type": "stream",
     "text": [
      "Number of passengers didn't transported = 4315\n",
      "Number of passengers transported = 4378\n"
     ]
    },
    {
     "data": {
      "image/png": "[encoded data removed]",
      "text/plain": [
       "<Figure size 640x480 with 1 Axes>"
      ]
     },
     "metadata": {},
     "output_type": "display_data"
    }
   ],
   "source": [
    "#Transported / Didn't Transported\n",
    "transported = df_train.groupby('Transported').count()['PassengerId'].reset_index()\n",
    "sns.countplot(x='Transported', data=df_train)\n",
    "print(\"Number of passengers didn't transported = {}\".format(transported['PassengerId'][0]))\n",
    "print(\"Number of passengers transported = {}\".format(transported['PassengerId'][1]))"
   ]
  },
  {
   "cell_type": "markdown",
   "id": "bae8b152-583f-4e0e-a7cd-4469a351237c",
   "metadata": {},
   "source": [
    "I had column charts drawn for the 'VIP', 'CryoSleep', 'HomePlanet', 'Destination', 'Alone', 'CabinSegment', 'CabinClass' features, which I think play an important role in model selection."
   ]
  },
  {
   "cell_type": "code",
   "execution_count": 27,
   "id": "d00778a4-dff0-42f4-b484-0bce4f83b5d8",
   "metadata": {
    "tags": []
   },
   "outputs": [
    {
     "data": {
      "image/png": "[encoded data removed]",
      "text/plain": [
       "<Figure size 1500x1500 with 7 Axes>"
      ]
     },
     "metadata": {},
     "output_type": "display_data"
    }
   ],
   "source": [
    "val = ['VIP', 'CryoSleep',\"HomePlanet\",\"Destination\",\"Alone\",\"CabinSegment\",\"CabinClass\"]\n",
    "plt.figure(figsize=(15,15))\n",
    "plt.subplots_adjust(right=1.5)\n",
    "for i in range(7):\n",
    "    plt.subplot(3,3,i+1), sns.countplot(x=val[i], hue='Transported', data = df1_heat)\n",
    "    plt.legend(['Not Transported', 'Transported'], loc='upper center', prop={'size': 10})\n",
    "    plt.title('Count of Transported in {} Feature'.format(val[i]), size=10, y=1)"
   ]
  },
  {
   "cell_type": "markdown",
   "id": "7baaae87-ea68-4136-8b47-0eac653e405e",
   "metadata": {
    "tags": []
   },
   "source": [
    "I drew a histogram to see the age distribution of transported and non-transported passengers."
   ]
  },
  {
   "cell_type": "code",
   "execution_count": 28,
   "id": "848a0df2-bd23-4530-a419-f6b2112b90a2",
   "metadata": {
    "tags": []
   },
   "outputs": [
    {
     "data": {
      "image/png": "[encoded data removed]",
      "text/plain": [
       "<Figure size 640x480 with 1 Axes>"
      ]
     },
     "metadata": {},
     "output_type": "display_data"
    }
   ],
   "source": [
    "trsp = df1_heat['Transported'] == True\n",
    "sns.histplot(df1_heat[~trsp]['Age'], label='Not Transported', kde=True, stat=\"density\", color='#e74c3c')\n",
    "sns.histplot(df1_heat[trsp]['Age'], label='Transported', kde=True, stat=\"density\", color='#2ecc71')\n",
    "plt.legend()\n",
    "plt.title('Distribution of Transportation in Age')   \n",
    "plt.show()"
   ]
  },
  {
   "cell_type": "markdown",
   "id": "4e5272e7-97ba-41fa-a92f-edafcf84c815",
   "metadata": {},
   "source": [
    "I drew a graph to see the distribution of transported and non-transported passengers according to luxury expenses."
   ]
  },
  {
   "cell_type": "code",
   "execution_count": 29,
   "id": "9e09dbcd-9bb3-493d-87a0-bd4a66bdd318",
   "metadata": {
    "tags": []
   },
   "outputs": [
    {
     "data": {
      "image/png": "[encoded data removed]",
      "text/plain": [
       "<Figure size 1400x600 with 1 Axes>"
      ]
     },
     "metadata": {},
     "output_type": "display_data"
    }
   ],
   "source": [
    "plt.figure(figsize=(14,6))\n",
    "plt.plot(range(0,len(df1_heat[~trsp]['Luxury'])), df1_heat[~trsp]['Luxury'], color='blue', animated=True, linewidth=1)\n",
    "plt.plot(range(0,len(df1_heat[trsp]['Luxury'])), df1_heat[trsp]['Luxury'], color='red', animated=True, linewidth=1)\n",
    "plt.xlabel('PassengerId', fontsize=14)\n",
    "plt.ylabel('Luxury', fontsize=14)\n",
    "plt.legend(['Not Transported', 'Transported'])\n",
    "plt.title('Distribution of Luxury Spending')\n",
    "plt.show()"
   ]
  },
  {
   "cell_type": "markdown",
   "id": "e9780e5e-ef89-4c60-a5e5-596af4ee256e",
   "metadata": {},
   "source": [
    "<a id='5'></a>\n",
    "# **Feature Engineering**\n",
    "We will apply feature engineering steps to both our training and test data. Here we are going to concat them so that we don't have to apply each steps separately. Then later on after applying feature engineering process we will separate them."
   ]
  },
  {
   "cell_type": "code",
   "execution_count": 30,
   "id": "03b142a3-1d80-4c01-b33c-53a1b137626e",
   "metadata": {
    "tags": []
   },
   "outputs": [
    {
     "data": {
      "text/plain": [
       "Index(['PassengerId', 'HomePlanet', 'CryoSleep', 'Cabin', 'Destination', 'Age',\n",
       "       'VIP', 'RoomService', 'FoodCourt', 'ShoppingMall', 'Spa', 'VRDeck',\n",
       "       'Name'],\n",
       "      dtype='object')"
      ]
     },
     "execution_count": 30,
     "metadata": {},
     "output_type": "execute_result"
    }
   ],
   "source": [
    "df2_heat=df_test[:]\n",
    "df2_heat.columns"
   ]
  },
  {
   "cell_type": "code",
   "execution_count": 31,
   "id": "e49c609e-a961-4244-aacc-c3c1c88c1620",
   "metadata": {
    "tags": []
   },
   "outputs": [],
   "source": [
    "#VIP or NOT to Boolean\n",
    "X = df2_heat.iloc[:, 6].values\n",
    "X= X.reshape(-1, 1)\n",
    "# To calculate median (NanStrategy) use imputer class\n",
    "imputer = SimpleImputer(missing_values=np.nan, strategy=NanStrategy)\n",
    "imputer = imputer.fit(X)\n",
    "X = imputer.transform(X)\n",
    "df2_heat[\"VIP\"]=X"
   ]
  },
  {
   "cell_type": "code",
   "execution_count": 32,
   "id": "3dc3f866-53b9-48d5-81d1-e22284cb186e",
   "metadata": {
    "tags": []
   },
   "outputs": [],
   "source": [
    "#CryoSleep or NOT\n",
    "X = df2_heat.iloc[:, 2].values\n",
    "X= X.reshape(-1, 1)\n",
    "# To calculate median (NanStrategy) use imputer class\n",
    "imputer = SimpleImputer(missing_values=np.nan, strategy=NanStrategy)\n",
    "imputer = imputer.fit(X)\n",
    "X = imputer.transform(X)\n",
    "df2_heat[\"CryoSleep\"]=X"
   ]
  },
  {
   "cell_type": "code",
   "execution_count": 33,
   "id": "9fad2d72-04f9-4c73-887d-c8fd7d4284c8",
   "metadata": {
    "tags": []
   },
   "outputs": [],
   "source": [
    "#Luxury - RoomService\n",
    "X = df2_heat.iloc[:, 7].values\n",
    "X= X.reshape(-1, 1)\n",
    "# To calculate median (NanStrategy) use imputer class\n",
    "imputer = SimpleImputer(missing_values=np.nan, strategy=NanStrategy)\n",
    "imputer = imputer.fit(X)\n",
    "X = imputer.transform(X)\n",
    "df2_heat[\"RoomService\"]=X"
   ]
  },
  {
   "cell_type": "code",
   "execution_count": 34,
   "id": "f2a29ce1-d180-4d82-a05c-8b8b73de4baf",
   "metadata": {
    "tags": []
   },
   "outputs": [],
   "source": [
    "#Luxury - FoodCourt\n",
    "X = df2_heat.iloc[:, 8].values\n",
    "X= X.reshape(-1, 1)\n",
    "# To calculate median (NanStrategy) use imputer class\n",
    "imputer = SimpleImputer(missing_values=np.nan, strategy=NanStrategy)\n",
    "imputer = imputer.fit(X)\n",
    "X = imputer.transform(X)\n",
    "df2_heat[\"FoodCourt\"]=X"
   ]
  },
  {
   "cell_type": "code",
   "execution_count": 35,
   "id": "149587c3-9d52-4c87-8ea0-a6457a9f95fc",
   "metadata": {
    "tags": []
   },
   "outputs": [],
   "source": [
    "#Luxury - ShoppingMall\n",
    "X = df2_heat.iloc[:, 9].values\n",
    "X= X.reshape(-1, 1)\n",
    "# To calculate median (NanStrategy) use imputer class\n",
    "imputer = SimpleImputer(missing_values=np.nan, strategy=NanStrategy)\n",
    "imputer = imputer.fit(X)\n",
    "X = imputer.transform(X)\n",
    "df2_heat[\"ShoppingMall\"]=X"
   ]
  },
  {
   "cell_type": "code",
   "execution_count": 36,
   "id": "90190370-2acf-4363-b1fc-8d731b2e1ffe",
   "metadata": {
    "tags": []
   },
   "outputs": [],
   "source": [
    "#Luxury - Spa\n",
    "X = df2_heat.iloc[:, 10].values\n",
    "X= X.reshape(-1, 1)\n",
    "# To calculate median (NanStrategy) use imputer class\n",
    "imputer = SimpleImputer(missing_values=np.nan, strategy=NanStrategy)\n",
    "imputer = imputer.fit(X)\n",
    "X = imputer.transform(X)\n",
    "df2_heat[\"Spa\"]=X"
   ]
  },
  {
   "cell_type": "code",
   "execution_count": 37,
   "id": "613382a0-ef21-49e4-8d04-a0afe09ef3ba",
   "metadata": {
    "tags": []
   },
   "outputs": [],
   "source": [
    "#Luxury - VRDeck\n",
    "X = df2_heat.iloc[:, 11].values\n",
    "X= X.reshape(-1, 1)\n",
    "# To calculate median (NanStrategy) use imputer class\n",
    "imputer = SimpleImputer(missing_values=np.nan, strategy=NanStrategy)\n",
    "imputer = imputer.fit(X)\n",
    "X = imputer.transform(X)\n",
    "df2_heat[\"VRDeck\"]=X"
   ]
  },
  {
   "cell_type": "code",
   "execution_count": 38,
   "id": "fab9e3fb-fcc8-409a-9487-9037a0fc9c82",
   "metadata": {
    "tags": []
   },
   "outputs": [],
   "source": [
    "#Luxury Total\n",
    "df2_heat[\"Luxury\"]=df2_heat[\"RoomService\"]+df2_heat[\"FoodCourt\"]+df2_heat[\"ShoppingMall\"]+df2_heat[\"VRDeck\"]+df2_heat[\"Spa\"]"
   ]
  },
  {
   "cell_type": "code",
   "execution_count": 39,
   "id": "e7bba288-def4-460e-8ac4-9a7666d4267f",
   "metadata": {
    "tags": []
   },
   "outputs": [],
   "source": [
    "#CabinSegment A,B,C,D,E,F,G,T Nan Values Evaluate\n",
    "df2_heat['CabinSegment']=df2_heat[\"Cabin\"].astype(str)\n",
    "df2_heat['CabinSegment']=df2_heat[\"CabinSegment\"].str[0]\n",
    "df2_heat['CabinSegment'] = [ ord(x)-64 for x in df2_heat['CabinSegment'] ]\n",
    "df2_heat['CabinSegment'] = df2_heat['CabinSegment'].replace(46,np.nan)\n",
    "df2_heat['CabinSegment'] = df2_heat['CabinSegment'].replace(20,8)\n",
    "X = df2_heat.iloc[:, 14].values\n",
    "X= X.reshape(-1, 1)\n",
    "# To calculate median (NanStrategy) use imputer class\n",
    "imputer = SimpleImputer(missing_values=np.nan, strategy=NanStrategy)\n",
    "imputer = imputer.fit(X)\n",
    "X = imputer.transform(X)\n",
    "df2_heat[\"CabinSegment\"]=X"
   ]
  },
  {
   "cell_type": "code",
   "execution_count": 40,
   "id": "d4f1540a-73b0-4fd5-a29d-4ee201ad79b8",
   "metadata": {
    "tags": []
   },
   "outputs": [],
   "source": [
    "df2_heat['CabinClass'] = df2_heat[\"Cabin\"].astype(str)\n",
    "df2_heat['CabinClass'] = df2_heat[\"CabinClass\"].str[-1]\n",
    "df2_heat['CabinClass'] = [ ord(x)-64 for x in df2_heat['CabinClass'] ]\n",
    "df2_heat['CabinClass'] = df2_heat['CabinClass'].replace(19,1)\n",
    "df2_heat['CabinClass'] = df2_heat['CabinClass'].replace(16,2)\n",
    "df2_heat['CabinClass'] = df2_heat['CabinClass'].replace(46,np.nan)\n",
    "X = df2_heat.iloc[:, 15].values\n",
    "X= X.reshape(-1, 1)\n",
    "# To calculate median (NanStrategy) use imputer class\n",
    "imputer = SimpleImputer(missing_values=np.nan, strategy=NanStrategy)\n",
    "imputer = imputer.fit(X)\n",
    "X = imputer.transform(X)\n",
    "df2_heat[\"CabinClass\"]=X"
   ]
  },
  {
   "cell_type": "code",
   "execution_count": 41,
   "id": "6c3efb53-1a46-41a8-a767-6a7f4441d5f4",
   "metadata": {
    "tags": []
   },
   "outputs": [],
   "source": [
    "#Destination  TRAPPIST-1e=1 PSO J318.5-22=2 55 Cancri e=3\n",
    "df2_heat['Destination']=df2_heat[\"Destination\"].astype(str)\n",
    "df2_heat['Destination']=df2_heat[\"Destination\"].str[0]\n",
    "df2_heat[\"Destination\"]= [ ord(x)-64 for x in df2_heat['Destination'] ]\n",
    "df2_heat['Destination'] = df2_heat['Destination'].replace(20,1)\n",
    "df2_heat['Destination'] = df2_heat['Destination'].replace(16,2)\n",
    "df2_heat['Destination'] = df2_heat['Destination'].replace(-11,2)\n",
    "df2_heat['Destination'] = df2_heat['Destination'].replace(46,np.nan)\n",
    "X = df2_heat.iloc[:, 4].values\n",
    "X= X.reshape(-1, 1)\n",
    "# To calculate median (NanStrategy) use imputer class\n",
    "imputer = SimpleImputer(missing_values=np.nan, strategy=NanStrategy)\n",
    "imputer = imputer.fit(X)\n",
    "X = imputer.transform(X)\n",
    "df2_heat[\"Destination\"]=X"
   ]
  },
  {
   "cell_type": "code",
   "execution_count": 42,
   "id": "7fd949fc-b110-446c-8b31-ef88264cd6f1",
   "metadata": {
    "tags": []
   },
   "outputs": [],
   "source": [
    "#HomePlanetClass Earth=1 Europa=2 Mars=3 \n",
    "df2_heat['HomePlanet']=df2_heat[\"HomePlanet\"].astype(str)\n",
    "df2_heat['HomePlanet']=df2_heat[\"HomePlanet\"].str[0:2]\n",
    "df2_heat[\"HomePlanet\"]= [ ord(x[0])-64+ord(x[1])-64 for x in df2_heat['HomePlanet'] ]\n",
    "df2_heat['HomePlanet'] = df2_heat['HomePlanet'].replace(38,1)\n",
    "df2_heat['HomePlanet'] = df2_heat['HomePlanet'].replace(58,2)\n",
    "df2_heat['HomePlanet'] = df2_heat['HomePlanet'].replace(46,3)\n",
    "df2_heat['HomePlanet'] = df2_heat['HomePlanet'].replace(79,np.nan)\n",
    "X = df2_heat.iloc[:, 1].values\n",
    "X= X.reshape(-1, 1)\n",
    "# To calculate median (NanStrategy) use imputer class\n",
    "imputer = SimpleImputer(missing_values=np.nan, strategy=NanStrategy)\n",
    "imputer = imputer.fit(X)\n",
    "X = imputer.transform(X)\n",
    "df2_heat[\"HomePlanet\"]=X"
   ]
  },
  {
   "cell_type": "code",
   "execution_count": 43,
   "id": "e549b807-1ff4-4bca-9ebc-c8723b62546a",
   "metadata": {
    "tags": []
   },
   "outputs": [],
   "source": [
    "#Age\n",
    "X = df2_heat.iloc[:, 5].values\n",
    "X= X.reshape(-1, 1)\n",
    "# To calculate median (NanStrategy) use imputer class\n",
    "imputer = SimpleImputer(missing_values=np.nan, strategy=NanStrategy)\n",
    "imputer = imputer.fit(X)\n",
    "X = imputer.transform(X)\n",
    "df2_heat[\"Age\"]=X"
   ]
  },
  {
   "cell_type": "code",
   "execution_count": 44,
   "id": "5d3b631e-1b97-42f2-9353-1f976c3263b7",
   "metadata": {
    "tags": []
   },
   "outputs": [
    {
     "data": {
      "text/plain": [
       "Index(['PassengerId', 'HomePlanet', 'CryoSleep', 'Cabin', 'Destination', 'Age',\n",
       "       'VIP', 'RoomService', 'FoodCourt', 'ShoppingMall', 'Spa', 'VRDeck',\n",
       "       'Name', 'Luxury', 'CabinSegment', 'CabinClass', 'GroupID', 'InGroup',\n",
       "       'Alone'],\n",
       "      dtype='object')"
      ]
     },
     "execution_count": 44,
     "metadata": {},
     "output_type": "execute_result"
    }
   ],
   "source": [
    "#from PessengerID Alone or Not\n",
    "df2_heat['GroupID'] = df2_heat['PassengerId'].str[0:4]\n",
    "df2_heat['InGroup']=df2_heat['GroupID'].apply(lambda x : (x, list(df2_heat['GroupID']).count(x))[1])\n",
    "df2_heat['Alone']=df2_heat['InGroup'].apply(lambda x : 0 if x>1 else 1 )\n",
    "df2_heat.columns"
   ]
  },
  {
   "cell_type": "code",
   "execution_count": 45,
   "id": "c166d8ce-4d54-4dcc-8b15-2f4acb74e84f",
   "metadata": {
    "tags": []
   },
   "outputs": [],
   "source": [
    "df2_heat=df2_heat.drop(columns=[\"Cabin\",\"RoomService\",\"FoodCourt\",\"ShoppingMall\",\"Spa\",\"VRDeck\",\"Name\",\"GroupID\",\"InGroup\"])"
   ]
  },
  {
   "cell_type": "code",
   "execution_count": 46,
   "id": "6a650069-487e-4702-83cb-40ffefdd8e03",
   "metadata": {
    "tags": []
   },
   "outputs": [
    {
     "data": {
      "text/html": [
       "<div>\n",
       "<style scoped>\n",
       "    .dataframe tbody tr th:only-of-type {\n",
       "        vertical-align: middle;\n",
       "    }\n",
       "\n",
       "    .dataframe tbody tr th {\n",
       "        vertical-align: top;\n",
       "    }\n",
       "\n",
       "    .dataframe thead th {\n",
       "        text-align: right;\n",
       "    }\n",
       "</style>\n",
       "<table border=\"1\" class=\"dataframe\">\n",
       "  <thead>\n",
       "    <tr style=\"text-align: right;\">\n",
       "      <th></th>\n",
       "      <th>PassengerId</th>\n",
       "      <th>HomePlanet</th>\n",
       "      <th>CryoSleep</th>\n",
       "      <th>Destination</th>\n",
       "      <th>Age</th>\n",
       "      <th>VIP</th>\n",
       "      <th>Luxury</th>\n",
       "      <th>CabinSegment</th>\n",
       "      <th>CabinClass</th>\n",
       "      <th>Alone</th>\n",
       "    </tr>\n",
       "  </thead>\n",
       "  <tbody>\n",
       "    <tr>\n",
       "      <th>1682</th>\n",
       "      <td>3611_01</td>\n",
       "      <td>1.0</td>\n",
       "      <td>0.0</td>\n",
       "      <td>1.0</td>\n",
       "      <td>23.0</td>\n",
       "      <td>0.0</td>\n",
       "      <td>701.0</td>\n",
       "      <td>6.0</td>\n",
       "      <td>1.0</td>\n",
       "      <td>1</td>\n",
       "    </tr>\n",
       "    <tr>\n",
       "      <th>241</th>\n",
       "      <td>0509_01</td>\n",
       "      <td>1.0</td>\n",
       "      <td>1.0</td>\n",
       "      <td>1.0</td>\n",
       "      <td>29.0</td>\n",
       "      <td>0.0</td>\n",
       "      <td>0.0</td>\n",
       "      <td>6.0</td>\n",
       "      <td>1.0</td>\n",
       "      <td>1</td>\n",
       "    </tr>\n",
       "    <tr>\n",
       "      <th>568</th>\n",
       "      <td>1181_01</td>\n",
       "      <td>1.0</td>\n",
       "      <td>0.0</td>\n",
       "      <td>1.0</td>\n",
       "      <td>18.0</td>\n",
       "      <td>0.0</td>\n",
       "      <td>775.0</td>\n",
       "      <td>6.0</td>\n",
       "      <td>1.0</td>\n",
       "      <td>1</td>\n",
       "    </tr>\n",
       "    <tr>\n",
       "      <th>4188</th>\n",
       "      <td>9086_01</td>\n",
       "      <td>1.0</td>\n",
       "      <td>1.0</td>\n",
       "      <td>1.0</td>\n",
       "      <td>22.0</td>\n",
       "      <td>0.0</td>\n",
       "      <td>0.0</td>\n",
       "      <td>7.0</td>\n",
       "      <td>1.0</td>\n",
       "      <td>0</td>\n",
       "    </tr>\n",
       "    <tr>\n",
       "      <th>342</th>\n",
       "      <td>0731_02</td>\n",
       "      <td>1.0</td>\n",
       "      <td>0.0</td>\n",
       "      <td>1.0</td>\n",
       "      <td>29.0</td>\n",
       "      <td>0.0</td>\n",
       "      <td>821.0</td>\n",
       "      <td>6.0</td>\n",
       "      <td>1.0</td>\n",
       "      <td>0</td>\n",
       "    </tr>\n",
       "  </tbody>\n",
       "</table>\n",
       "</div>"
      ],
      "text/plain": [
       "     PassengerId  HomePlanet  CryoSleep  Destination   Age  VIP  Luxury  \\\n",
       "1682     3611_01         1.0        0.0          1.0  23.0  0.0   701.0   \n",
       "241      0509_01         1.0        1.0          1.0  29.0  0.0     0.0   \n",
       "568      1181_01         1.0        0.0          1.0  18.0  0.0   775.0   \n",
       "4188     9086_01         1.0        1.0          1.0  22.0  0.0     0.0   \n",
       "342      0731_02         1.0        0.0          1.0  29.0  0.0   821.0   \n",
       "\n",
       "      CabinSegment  CabinClass  Alone  \n",
       "1682           6.0         1.0      1  \n",
       "241            6.0         1.0      1  \n",
       "568            6.0         1.0      1  \n",
       "4188           7.0         1.0      0  \n",
       "342            6.0         1.0      0  "
      ]
     },
     "execution_count": 46,
     "metadata": {},
     "output_type": "execute_result"
    }
   ],
   "source": [
    "df2_heat.sample(5)"
   ]
  },
  {
   "cell_type": "markdown",
   "id": "c5604818-07d1-4147-baf5-422e055519ce",
   "metadata": {},
   "source": [
    "I concatenated Train and Test dataframes. (df1_heat: train, df2_heat: test)"
   ]
  },
  {
   "cell_type": "code",
   "execution_count": 47,
   "id": "ec1cfc82-3bf2-4b07-a360-bc6173541171",
   "metadata": {
    "tags": []
   },
   "outputs": [],
   "source": [
    "df = pd.concat([df1_heat,df2_heat],ignore_index=True)"
   ]
  },
  {
   "cell_type": "markdown",
   "id": "0c75de56-fb69-4e82-9b0b-f12157a11b29",
   "metadata": {},
   "source": [
    "The types of data contained in the columns in the new dataframe are as follows:"
   ]
  },
  {
   "cell_type": "code",
   "execution_count": 48,
   "id": "a877b807-145f-4440-9651-bd6ea73f468f",
   "metadata": {
    "tags": []
   },
   "outputs": [
    {
     "data": {
      "text/plain": [
       "PassengerId      object\n",
       "HomePlanet      float64\n",
       "CryoSleep       float64\n",
       "Destination     float64\n",
       "Age             float64\n",
       "VIP             float64\n",
       "Transported     float64\n",
       "Luxury          float64\n",
       "CabinSegment    float64\n",
       "CabinClass      float64\n",
       "Alone             int64\n",
       "dtype: object"
      ]
     },
     "execution_count": 48,
     "metadata": {},
     "output_type": "execute_result"
    }
   ],
   "source": [
    "df.dtypes"
   ]
  },
  {
   "cell_type": "markdown",
   "id": "2168e286-53b5-4c83-884b-eff901237a58",
   "metadata": {
    "tags": []
   },
   "source": [
    "A new dataframe was created by splitting the previous dataframe to make the train and test dataframes accessible by index numbers."
   ]
  },
  {
   "cell_type": "code",
   "execution_count": 49,
   "id": "5af8cc79-fc35-4e51-b6fb-a58b1d86802d",
   "metadata": {
    "tags": []
   },
   "outputs": [],
   "source": [
    "dfs = np.split(df, [len(df_train)], axis=0)"
   ]
  },
  {
   "cell_type": "markdown",
   "id": "51f8771e-cbba-4108-9b0e-fe4579ecda82",
   "metadata": {},
   "source": [
    "I checked the dimensions of the train dataframe to be used in the models. I used the tail command to understand that it was split in the right place. The last value of the Transported column should not be NaN."
   ]
  },
  {
   "cell_type": "code",
   "execution_count": 50,
   "id": "cc350c48-24e5-4f15-b861-fefd0394b4dc",
   "metadata": {
    "tags": []
   },
   "outputs": [
    {
     "name": "stdout",
     "output_type": "stream",
     "text": [
      "(8693, 11)\n"
     ]
    },
    {
     "data": {
      "text/html": [
       "<div>\n",
       "<style scoped>\n",
       "    .dataframe tbody tr th:only-of-type {\n",
       "        vertical-align: middle;\n",
       "    }\n",
       "\n",
       "    .dataframe tbody tr th {\n",
       "        vertical-align: top;\n",
       "    }\n",
       "\n",
       "    .dataframe thead th {\n",
       "        text-align: right;\n",
       "    }\n",
       "</style>\n",
       "<table border=\"1\" class=\"dataframe\">\n",
       "  <thead>\n",
       "    <tr style=\"text-align: right;\">\n",
       "      <th></th>\n",
       "      <th>PassengerId</th>\n",
       "      <th>HomePlanet</th>\n",
       "      <th>CryoSleep</th>\n",
       "      <th>Destination</th>\n",
       "      <th>Age</th>\n",
       "      <th>VIP</th>\n",
       "      <th>Transported</th>\n",
       "      <th>Luxury</th>\n",
       "      <th>CabinSegment</th>\n",
       "      <th>CabinClass</th>\n",
       "      <th>Alone</th>\n",
       "    </tr>\n",
       "  </thead>\n",
       "  <tbody>\n",
       "    <tr>\n",
       "      <th>8688</th>\n",
       "      <td>9276_01</td>\n",
       "      <td>2.0</td>\n",
       "      <td>0.0</td>\n",
       "      <td>2.0</td>\n",
       "      <td>41.0</td>\n",
       "      <td>1.0</td>\n",
       "      <td>0.0</td>\n",
       "      <td>8536.0</td>\n",
       "      <td>1.0</td>\n",
       "      <td>2.0</td>\n",
       "      <td>1</td>\n",
       "    </tr>\n",
       "    <tr>\n",
       "      <th>8689</th>\n",
       "      <td>9278_01</td>\n",
       "      <td>1.0</td>\n",
       "      <td>1.0</td>\n",
       "      <td>2.0</td>\n",
       "      <td>18.0</td>\n",
       "      <td>0.0</td>\n",
       "      <td>0.0</td>\n",
       "      <td>0.0</td>\n",
       "      <td>7.0</td>\n",
       "      <td>1.0</td>\n",
       "      <td>1</td>\n",
       "    </tr>\n",
       "    <tr>\n",
       "      <th>8690</th>\n",
       "      <td>9279_01</td>\n",
       "      <td>1.0</td>\n",
       "      <td>0.0</td>\n",
       "      <td>1.0</td>\n",
       "      <td>26.0</td>\n",
       "      <td>0.0</td>\n",
       "      <td>1.0</td>\n",
       "      <td>1873.0</td>\n",
       "      <td>7.0</td>\n",
       "      <td>1.0</td>\n",
       "      <td>1</td>\n",
       "    </tr>\n",
       "    <tr>\n",
       "      <th>8691</th>\n",
       "      <td>9280_01</td>\n",
       "      <td>2.0</td>\n",
       "      <td>0.0</td>\n",
       "      <td>2.0</td>\n",
       "      <td>32.0</td>\n",
       "      <td>0.0</td>\n",
       "      <td>0.0</td>\n",
       "      <td>4637.0</td>\n",
       "      <td>5.0</td>\n",
       "      <td>1.0</td>\n",
       "      <td>0</td>\n",
       "    </tr>\n",
       "    <tr>\n",
       "      <th>8692</th>\n",
       "      <td>9280_02</td>\n",
       "      <td>2.0</td>\n",
       "      <td>0.0</td>\n",
       "      <td>1.0</td>\n",
       "      <td>44.0</td>\n",
       "      <td>0.0</td>\n",
       "      <td>1.0</td>\n",
       "      <td>4826.0</td>\n",
       "      <td>5.0</td>\n",
       "      <td>1.0</td>\n",
       "      <td>0</td>\n",
       "    </tr>\n",
       "  </tbody>\n",
       "</table>\n",
       "</div>"
      ],
      "text/plain": [
       "     PassengerId  HomePlanet  CryoSleep  Destination   Age  VIP  Transported  \\\n",
       "8688     9276_01         2.0        0.0          2.0  41.0  1.0          0.0   \n",
       "8689     9278_01         1.0        1.0          2.0  18.0  0.0          0.0   \n",
       "8690     9279_01         1.0        0.0          1.0  26.0  0.0          1.0   \n",
       "8691     9280_01         2.0        0.0          2.0  32.0  0.0          0.0   \n",
       "8692     9280_02         2.0        0.0          1.0  44.0  0.0          1.0   \n",
       "\n",
       "      Luxury  CabinSegment  CabinClass  Alone  \n",
       "8688  8536.0           1.0         2.0      1  \n",
       "8689     0.0           7.0         1.0      1  \n",
       "8690  1873.0           7.0         1.0      1  \n",
       "8691  4637.0           5.0         1.0      0  \n",
       "8692  4826.0           5.0         1.0      0  "
      ]
     },
     "execution_count": 50,
     "metadata": {},
     "output_type": "execute_result"
    }
   ],
   "source": [
    "train = dfs[0]\n",
    "print(train.shape)\n",
    "train.tail()"
   ]
  },
  {
   "cell_type": "markdown",
   "id": "2effead0-db66-4c8c-970c-57871e4f83fc",
   "metadata": {
    "tags": []
   },
   "source": [
    "I checked the dimensions of the test dataframe on which the selected model will be applied. I used the head method to understand that it was split at the right place. The first value of the Transported column should be NaN."
   ]
  },
  {
   "cell_type": "code",
   "execution_count": 51,
   "id": "ba9521de-4912-41dd-8334-7f3cd967a61c",
   "metadata": {},
   "outputs": [
    {
     "name": "stdout",
     "output_type": "stream",
     "text": [
      "(4277, 11)\n"
     ]
    },
    {
     "data": {
      "text/html": [
       "<div>\n",
       "<style scoped>\n",
       "    .dataframe tbody tr th:only-of-type {\n",
       "        vertical-align: middle;\n",
       "    }\n",
       "\n",
       "    .dataframe tbody tr th {\n",
       "        vertical-align: top;\n",
       "    }\n",
       "\n",
       "    .dataframe thead th {\n",
       "        text-align: right;\n",
       "    }\n",
       "</style>\n",
       "<table border=\"1\" class=\"dataframe\">\n",
       "  <thead>\n",
       "    <tr style=\"text-align: right;\">\n",
       "      <th></th>\n",
       "      <th>PassengerId</th>\n",
       "      <th>HomePlanet</th>\n",
       "      <th>CryoSleep</th>\n",
       "      <th>Destination</th>\n",
       "      <th>Age</th>\n",
       "      <th>VIP</th>\n",
       "      <th>Transported</th>\n",
       "      <th>Luxury</th>\n",
       "      <th>CabinSegment</th>\n",
       "      <th>CabinClass</th>\n",
       "      <th>Alone</th>\n",
       "    </tr>\n",
       "  </thead>\n",
       "  <tbody>\n",
       "    <tr>\n",
       "      <th>8693</th>\n",
       "      <td>0013_01</td>\n",
       "      <td>1.0</td>\n",
       "      <td>1.0</td>\n",
       "      <td>1.0</td>\n",
       "      <td>27.0</td>\n",
       "      <td>0.0</td>\n",
       "      <td>NaN</td>\n",
       "      <td>0.0</td>\n",
       "      <td>7.0</td>\n",
       "      <td>1.0</td>\n",
       "      <td>1</td>\n",
       "    </tr>\n",
       "    <tr>\n",
       "      <th>8694</th>\n",
       "      <td>0018_01</td>\n",
       "      <td>1.0</td>\n",
       "      <td>0.0</td>\n",
       "      <td>1.0</td>\n",
       "      <td>19.0</td>\n",
       "      <td>0.0</td>\n",
       "      <td>NaN</td>\n",
       "      <td>2832.0</td>\n",
       "      <td>6.0</td>\n",
       "      <td>1.0</td>\n",
       "      <td>1</td>\n",
       "    </tr>\n",
       "    <tr>\n",
       "      <th>8695</th>\n",
       "      <td>0019_01</td>\n",
       "      <td>2.0</td>\n",
       "      <td>1.0</td>\n",
       "      <td>2.0</td>\n",
       "      <td>31.0</td>\n",
       "      <td>0.0</td>\n",
       "      <td>NaN</td>\n",
       "      <td>0.0</td>\n",
       "      <td>3.0</td>\n",
       "      <td>1.0</td>\n",
       "      <td>1</td>\n",
       "    </tr>\n",
       "    <tr>\n",
       "      <th>8696</th>\n",
       "      <td>0021_01</td>\n",
       "      <td>2.0</td>\n",
       "      <td>0.0</td>\n",
       "      <td>1.0</td>\n",
       "      <td>38.0</td>\n",
       "      <td>0.0</td>\n",
       "      <td>NaN</td>\n",
       "      <td>7418.0</td>\n",
       "      <td>3.0</td>\n",
       "      <td>1.0</td>\n",
       "      <td>1</td>\n",
       "    </tr>\n",
       "    <tr>\n",
       "      <th>8697</th>\n",
       "      <td>0023_01</td>\n",
       "      <td>1.0</td>\n",
       "      <td>0.0</td>\n",
       "      <td>1.0</td>\n",
       "      <td>20.0</td>\n",
       "      <td>0.0</td>\n",
       "      <td>NaN</td>\n",
       "      <td>645.0</td>\n",
       "      <td>6.0</td>\n",
       "      <td>1.0</td>\n",
       "      <td>1</td>\n",
       "    </tr>\n",
       "  </tbody>\n",
       "</table>\n",
       "</div>"
      ],
      "text/plain": [
       "     PassengerId  HomePlanet  CryoSleep  Destination   Age  VIP  Transported  \\\n",
       "8693     0013_01         1.0        1.0          1.0  27.0  0.0          NaN   \n",
       "8694     0018_01         1.0        0.0          1.0  19.0  0.0          NaN   \n",
       "8695     0019_01         2.0        1.0          2.0  31.0  0.0          NaN   \n",
       "8696     0021_01         2.0        0.0          1.0  38.0  0.0          NaN   \n",
       "8697     0023_01         1.0        0.0          1.0  20.0  0.0          NaN   \n",
       "\n",
       "      Luxury  CabinSegment  CabinClass  Alone  \n",
       "8693     0.0           7.0         1.0      1  \n",
       "8694  2832.0           6.0         1.0      1  \n",
       "8695     0.0           3.0         1.0      1  \n",
       "8696  7418.0           3.0         1.0      1  \n",
       "8697   645.0           6.0         1.0      1  "
      ]
     },
     "execution_count": 51,
     "metadata": {},
     "output_type": "execute_result"
    }
   ],
   "source": [
    "test = dfs[1]\n",
    "print(test.shape)\n",
    "test.head()"
   ]
  },
  {
   "cell_type": "markdown",
   "id": "a4dbb548-c07c-4642-b298-699179837dd3",
   "metadata": {},
   "source": [
    "I turned the train daframe into a spark dataframe so that SPARK ML can use it."
   ]
  },
  {
   "cell_type": "code",
   "execution_count": 52,
   "id": "659d824e-d3fb-4876-a4fa-70033eaf4a6d",
   "metadata": {
    "tags": []
   },
   "outputs": [],
   "source": [
    "train = sqlContext.createDataFrame(train)"
   ]
  },
  {
   "cell_type": "markdown",
   "id": "62741e92-c41d-47fc-b204-8375fc5a3d5d",
   "metadata": {},
   "source": [
    "Since VectorAssembler is a transformer that combines a given list of columns into a single vector column, it is useful for combining raw features and features generated by different feature transformers into a single feature vector for training ML models such as Logistic regression and decision trees. I have defined VectorAssembler below. ('CryoSleep','VIP','Luxury','CabinSegment', 'CabinClass','Age','Alone','HomePlanet','Destination') Normalizer is used to normalize Vectors between Rows, not scalars between columns . I defined a normalizer because it is used in a similar way in models."
   ]
  },
  {
   "cell_type": "code",
   "execution_count": 53,
   "id": "033a18a5-5b9b-4686-ab48-d621afb0ce87",
   "metadata": {
    "tags": []
   },
   "outputs": [],
   "source": [
    "vector = VectorAssembler(inputCols=['CryoSleep','VIP','Luxury','CabinSegment', 'CabinClass','Age','Alone','HomePlanet','Destination'],outputCol='features')\n",
    "normalizer = Normalizer(inputCol='features',outputCol='features_norm', p=1)"
   ]
  },
  {
   "cell_type": "markdown",
   "id": "827a84bd-c626-49cf-ba34-67019ffd583c",
   "metadata": {},
   "source": [
    "<h2>My first model is Logistic Regression</h2>"
   ]
  },
  {
   "cell_type": "code",
   "execution_count": 54,
   "id": "61e397f2-df07-4355-ba5a-8e86b7ed2a99",
   "metadata": {
    "tags": []
   },
   "outputs": [],
   "source": [
    "lor = LogisticRegression(featuresCol='features_norm', labelCol='Transported', maxIter=100)"
   ]
  },
  {
   "cell_type": "markdown",
   "id": "136d26a9-1165-446d-80ff-e1d2fa152f5a",
   "metadata": {},
   "source": [
    "The PySpark pipeline acts as a prediction tool; The pipeline consists of a transformer or sequence of stages as an estimator. I defined a pipeline for Logistic Regression. (pipeline1)"
   ]
  },
  {
   "cell_type": "code",
   "execution_count": 55,
   "id": "3bf00c74-285a-4c3e-9518-f9564f9e060e",
   "metadata": {
    "tags": []
   },
   "outputs": [],
   "source": [
    "pipeline1 = Pipeline(stages=[vector,normalizer,lor])"
   ]
  },
  {
   "cell_type": "code",
   "execution_count": 56,
   "id": "18362b3c-a125-4580-915e-9a8b7674ad3a",
   "metadata": {
    "tags": []
   },
   "outputs": [],
   "source": [
    "model1 = pipeline1.fit(train)"
   ]
  },
  {
   "cell_type": "markdown",
   "id": "68fecdcd-2269-4e06-bf03-f0dea8a4049c",
   "metadata": {},
   "source": [
    "First Prediction (Logistic Regression Prediction):"
   ]
  },
  {
   "cell_type": "code",
   "execution_count": 57,
   "id": "6a03b970-dedc-42f0-9ff6-683f17a4c60f",
   "metadata": {
    "tags": []
   },
   "outputs": [],
   "source": [
    "predictions1 = model1.transform(train)"
   ]
  },
  {
   "cell_type": "markdown",
   "id": "93925e02-d7ab-4c79-b893-a8b8844a927d",
   "metadata": {},
   "source": [
    "I created an empty list for accuracy. I will keep the accuracy ratings of all models in this list."
   ]
  },
  {
   "cell_type": "code",
   "execution_count": 58,
   "id": "f6ef7965-e5e2-4bb1-abf8-ef75da6ee64d",
   "metadata": {
    "tags": []
   },
   "outputs": [],
   "source": [
    "accuracy = []"
   ]
  },
  {
   "cell_type": "markdown",
   "id": "40778b2d-1e9b-4d4a-8196-e50a84200ae1",
   "metadata": {},
   "source": [
    "I use MulticlassClassificationEvaluator to measure the accuracy of Logistic Regression and other models."
   ]
  },
  {
   "cell_type": "code",
   "execution_count": 59,
   "id": "f4d9fbfa-a100-4288-8842-ccccbf461cf7",
   "metadata": {
    "tags": []
   },
   "outputs": [
    {
     "name": "stdout",
     "output_type": "stream",
     "text": [
      "The Logistic Regression Model Accuracy is: 0.7369147590014955\n"
     ]
    }
   ],
   "source": [
    "eval = MulticlassClassificationEvaluator().setMetricName('accuracy').setLabelCol('Transported').setPredictionCol('prediction')\n",
    "print(\"The Logistic Regression Model Accuracy is: \" + str(eval.evaluate(predictions1)))\n",
    "accuracy.append(eval.evaluate(predictions1))"
   ]
  },
  {
   "cell_type": "markdown",
   "id": "7dd9d3e2-be01-4b44-b976-5e9e0cf43f78",
   "metadata": {},
   "source": [
    "<h2>Next is Gradient-Boosted Trees (GBTs) learning algorithm for classification:</h2>"
   ]
  },
  {
   "cell_type": "code",
   "execution_count": 60,
   "id": "67ac13fe-8e3c-4882-aabf-3faa3ea35883",
   "metadata": {
    "tags": []
   },
   "outputs": [
    {
     "name": "stdout",
     "output_type": "stream",
     "text": [
      "The Gradient-Boosted Trees Accuracy is: 0.7835039687104567\n"
     ]
    }
   ],
   "source": [
    "gbt = GBTClassifier(featuresCol='features_norm',labelCol='Transported',maxIter=100)\n",
    "pipeline2 = Pipeline(stages=[vector,normalizer,gbt])\n",
    "model2 = pipeline2.fit(train)\n",
    "predictions2 = model2.transform(train)\n",
    "\n",
    "from pyspark.ml.evaluation import MulticlassClassificationEvaluator\n",
    "eval = MulticlassClassificationEvaluator().setMetricName('accuracy').setLabelCol('Transported').setPredictionCol('prediction')\n",
    "print(\"The Gradient-Boosted Trees Accuracy is: \" + str(eval.evaluate(predictions2)))\n",
    "accuracy.append(eval.evaluate(predictions2))"
   ]
  },
  {
   "cell_type": "markdown",
   "id": "f6c6ca56-fdbd-4907-aab0-cccb82c15b9f",
   "metadata": {},
   "source": [
    "<h2>Now it's Linear Support Vector Classification's turn</h2>"
   ]
  },
  {
   "cell_type": "code",
   "execution_count": 61,
   "id": "fa8ace6f-449b-4673-88ec-8c7fd36f9f5d",
   "metadata": {
    "tags": []
   },
   "outputs": [
    {
     "name": "stdout",
     "output_type": "stream",
     "text": [
      "The Linear Support Vector Accuracy is: 0.7367997239157943\n"
     ]
    }
   ],
   "source": [
    "svc = LinearSVC(featuresCol='features_norm', labelCol='Transported', maxIter=10)\n",
    "pipeline3 = Pipeline(stages=[vector,normalizer,svc])\n",
    "model3 = pipeline3.fit(train)\n",
    "predictions3 = model3.transform(train)\n",
    "\n",
    "from pyspark.ml.evaluation import MulticlassClassificationEvaluator\n",
    "eval = MulticlassClassificationEvaluator().setMetricName('accuracy').setLabelCol('Transported').setPredictionCol('prediction')\n",
    "print(\"The Linear Support Vector Accuracy is: \" + str(eval.evaluate(predictions3)))\n",
    "accuracy.append(eval.evaluate(predictions3))"
   ]
  },
  {
   "cell_type": "markdown",
   "id": "64a346aa-4d0e-4332-bfb5-6fc465bbfe0d",
   "metadata": {},
   "source": [
    "<h2>Decision Tree:</h2>"
   ]
  },
  {
   "cell_type": "code",
   "execution_count": 62,
   "id": "de66d0ad-d1e9-4d07-bb49-58bd101d9e6d",
   "metadata": {
    "tags": []
   },
   "outputs": [
    {
     "name": "stdout",
     "output_type": "stream",
     "text": [
      "The Decision Tree Accuracy is: 0.7427815483722535\n"
     ]
    }
   ],
   "source": [
    "dt = DecisionTreeClassifier(featuresCol='features_norm', labelCol='Transported')\n",
    "pipeline4 = Pipeline(stages=[vector,normalizer,dt])\n",
    "model4 = pipeline4.fit(train)\n",
    "predictions4 = model4.transform(train)\n",
    "\n",
    "from pyspark.ml.evaluation import MulticlassClassificationEvaluator\n",
    "eval = MulticlassClassificationEvaluator().setMetricName('accuracy').setLabelCol('Transported').setPredictionCol('prediction')\n",
    "print(\"The Decision Tree Accuracy is: \" + str(eval.evaluate(predictions4)))\n",
    "accuracy.append(eval.evaluate(predictions4))"
   ]
  },
  {
   "cell_type": "markdown",
   "id": "0b68390c-9e27-4c95-a058-87d84da34211",
   "metadata": {},
   "source": [
    "<h2>Random Forest:</h2>"
   ]
  },
  {
   "cell_type": "code",
   "execution_count": 63,
   "id": "951d6b45-8be1-46f1-9bac-690024d5261e",
   "metadata": {
    "tags": []
   },
   "outputs": [
    {
     "name": "stdout",
     "output_type": "stream",
     "text": [
      "The Random Forest Accuracy is: 0.7376049695157023\n"
     ]
    }
   ],
   "source": [
    "rfc = RandomForestClassifier(featuresCol='features_norm', labelCol='Transported')\n",
    "pipeline5 = Pipeline(stages=[vector,normalizer,rfc])\n",
    "model5 = pipeline5.fit(train)\n",
    "predictions5 = model5.transform(train)\n",
    "\n",
    "from pyspark.ml.evaluation import MulticlassClassificationEvaluator\n",
    "eval = MulticlassClassificationEvaluator().setMetricName('accuracy').setLabelCol('Transported').setPredictionCol('prediction')\n",
    "print(\"The Random Forest Accuracy is: \" + str(eval.evaluate(predictions5)))\n",
    "accuracy.append(eval.evaluate(predictions5))"
   ]
  },
  {
   "cell_type": "markdown",
   "id": "1f0c5fe2-0ef1-4334-ac0c-c196e7dc0e11",
   "metadata": {},
   "source": [
    "<h2>Multilayer Perceptron Classifier:</h2>"
   ]
  },
  {
   "cell_type": "code",
   "execution_count": 64,
   "id": "ac6afe11-e606-4b9e-8018-babe28239c2c",
   "metadata": {
    "tags": []
   },
   "outputs": [
    {
     "name": "stdout",
     "output_type": "stream",
     "text": [
      "The Multilayer Perceptron Classifier Accuracy is: 0.739790636144024\n"
     ]
    }
   ],
   "source": [
    "layers = [9, 5, 4, 2]\n",
    "trainer = MultilayerPerceptronClassifier(featuresCol='features_norm', labelCol='Transported', maxIter=100, layers=layers, blockSize=128, seed=1234)\n",
    "pipeline6 = Pipeline(stages=[vector,normalizer,trainer])\n",
    "model6 = pipeline6.fit(train)\n",
    "predictions6 = model6.transform(train)\n",
    "\n",
    "from pyspark.ml.evaluation import MulticlassClassificationEvaluator\n",
    "eval = MulticlassClassificationEvaluator().setMetricName('accuracy').setLabelCol('Transported').setPredictionCol('prediction')\n",
    "print(\"The Multilayer Perceptron Classifier Accuracy is: \" + str(eval.evaluate(predictions6)))\n",
    "accuracy.append(eval.evaluate(predictions6))"
   ]
  },
  {
   "cell_type": "markdown",
   "id": "2bf55d5d-f37a-4cec-bfe9-bce953075a1e",
   "metadata": {},
   "source": [
    "The best accuracy seems to be GBT's. I supported this with graphics."
   ]
  },
  {
   "cell_type": "code",
   "execution_count": 65,
   "id": "12a15784-8fcd-4283-bcb4-c08f6056ae40",
   "metadata": {
    "tags": []
   },
   "outputs": [],
   "source": [
    "names = ['Logistic Regression', 'GBTClassifier', 'LinearSVC', 'DecisionTreeClassifier', 'RandomForestClassifier', 'MultilayerPerceptronClassifier']"
   ]
  },
  {
   "cell_type": "code",
   "execution_count": 66,
   "id": "b59ab88c-9b3e-45cc-8d7a-f8e11d9d73cc",
   "metadata": {
    "tags": []
   },
   "outputs": [
    {
     "data": {
      "image/png": "[encoded data removed]",
      "text/plain": [
       "<Figure size 1500x1000 with 2 Axes>"
      ]
     },
     "metadata": {},
     "output_type": "display_data"
    }
   ],
   "source": [
    "fig, ax = plt.subplots(2,1, figsize=(15,10))\n",
    "sns.barplot(x=names, y=accuracy, ax=ax[0])\n",
    "sns.pointplot(x=names, y=accuracy, ax=ax[1])\n",
    "plt.show()"
   ]
  },
  {
   "cell_type": "markdown",
   "id": "d2cbe97f-a51b-4bbc-b767-748c18a4f2d9",
   "metadata": {
    "tags": []
   },
   "source": [
    "Therefore, I had to apply the model I used for the second prediction to the test dataframe. "
   ]
  },
  {
   "cell_type": "code",
   "execution_count": 67,
   "id": "168bdac7-7c41-4c33-a4f5-16c210b6d303",
   "metadata": {
    "tags": []
   },
   "outputs": [
    {
     "name": "stdout",
     "output_type": "stream",
     "text": [
      "+-----------+----------+\n",
      "|Transported|prediction|\n",
      "+-----------+----------+\n",
      "|        0.0|       0.0|\n",
      "|        1.0|       0.0|\n",
      "|        0.0|       0.0|\n",
      "|        0.0|       0.0|\n",
      "|        1.0|       0.0|\n",
      "|        1.0|       0.0|\n",
      "|        1.0|       0.0|\n",
      "|        1.0|       1.0|\n",
      "|        1.0|       0.0|\n",
      "|        1.0|       1.0|\n",
      "|        1.0|       1.0|\n",
      "|        1.0|       0.0|\n",
      "|        1.0|       0.0|\n",
      "|        0.0|       0.0|\n",
      "|        1.0|       0.0|\n",
      "|        0.0|       0.0|\n",
      "|        0.0|       0.0|\n",
      "|        0.0|       0.0|\n",
      "|        1.0|       1.0|\n",
      "|        1.0|       1.0|\n",
      "+-----------+----------+\n",
      "only showing top 20 rows\n",
      "\n"
     ]
    }
   ],
   "source": [
    "predictions2.select(\"Transported\", \"prediction\").show()"
   ]
  },
  {
   "cell_type": "code",
   "execution_count": 68,
   "id": "3e536788-2247-4617-8da1-d50cfb532826",
   "metadata": {
    "tags": []
   },
   "outputs": [],
   "source": [
    "test = sqlContext.createDataFrame(test)\n",
    "predictions = model2.transform(test)\n",
    "predictions = predictions.toPandas()"
   ]
  },
  {
   "cell_type": "code",
   "execution_count": 69,
   "id": "28684537-8d09-4926-af61-4e2e923c8d4f",
   "metadata": {
    "tags": []
   },
   "outputs": [
    {
     "data": {
      "text/html": [
       "<div>\n",
       "<style scoped>\n",
       "    .dataframe tbody tr th:only-of-type {\n",
       "        vertical-align: middle;\n",
       "    }\n",
       "\n",
       "    .dataframe tbody tr th {\n",
       "        vertical-align: top;\n",
       "    }\n",
       "\n",
       "    .dataframe thead th {\n",
       "        text-align: right;\n",
       "    }\n",
       "</style>\n",
       "<table border=\"1\" class=\"dataframe\">\n",
       "  <thead>\n",
       "    <tr style=\"text-align: right;\">\n",
       "      <th></th>\n",
       "      <th>PassengerId</th>\n",
       "      <th>HomePlanet</th>\n",
       "      <th>CryoSleep</th>\n",
       "      <th>Destination</th>\n",
       "      <th>Age</th>\n",
       "      <th>VIP</th>\n",
       "      <th>Transported</th>\n",
       "      <th>Luxury</th>\n",
       "      <th>CabinSegment</th>\n",
       "      <th>CabinClass</th>\n",
       "      <th>Alone</th>\n",
       "      <th>features</th>\n",
       "      <th>features_norm</th>\n",
       "      <th>rawPrediction</th>\n",
       "      <th>probability</th>\n",
       "      <th>prediction</th>\n",
       "    </tr>\n",
       "  </thead>\n",
       "  <tbody>\n",
       "    <tr>\n",
       "      <th>3598</th>\n",
       "      <td>7838_01</td>\n",
       "      <td>2.0</td>\n",
       "      <td>1.0</td>\n",
       "      <td>1.0</td>\n",
       "      <td>27.0</td>\n",
       "      <td>0.0</td>\n",
       "      <td>NaN</td>\n",
       "      <td>0.0</td>\n",
       "      <td>3.0</td>\n",
       "      <td>1.0</td>\n",
       "      <td>1</td>\n",
       "      <td>[1.0, 0.0, 0.0, 3.0, 1.0, 27.0, 1.0, 2.0, 1.0]</td>\n",
       "      <td>[0.027777777777777776, 0.0, 0.0, 0.08333333333...</td>\n",
       "      <td>[-1.6918835876803449, 1.6918835876803449]</td>\n",
       "      <td>[0.03280665030640534, 0.9671933496935947]</td>\n",
       "      <td>1.0</td>\n",
       "    </tr>\n",
       "    <tr>\n",
       "      <th>2878</th>\n",
       "      <td>6332_05</td>\n",
       "      <td>1.0</td>\n",
       "      <td>0.0</td>\n",
       "      <td>1.0</td>\n",
       "      <td>24.0</td>\n",
       "      <td>0.0</td>\n",
       "      <td>NaN</td>\n",
       "      <td>828.0</td>\n",
       "      <td>6.0</td>\n",
       "      <td>2.0</td>\n",
       "      <td>0</td>\n",
       "      <td>[0.0, 0.0, 828.0, 6.0, 2.0, 24.0, 0.0, 1.0, 1.0]</td>\n",
       "      <td>[0.0, 0.0, 0.9605568445475638, 0.0069605568445...</td>\n",
       "      <td>[0.47414658048567704, -0.47414658048567704]</td>\n",
       "      <td>[0.7207717893920194, 0.27922821060798064]</td>\n",
       "      <td>0.0</td>\n",
       "    </tr>\n",
       "    <tr>\n",
       "      <th>858</th>\n",
       "      <td>1787_01</td>\n",
       "      <td>1.0</td>\n",
       "      <td>0.0</td>\n",
       "      <td>1.0</td>\n",
       "      <td>12.0</td>\n",
       "      <td>0.0</td>\n",
       "      <td>NaN</td>\n",
       "      <td>0.0</td>\n",
       "      <td>7.0</td>\n",
       "      <td>2.0</td>\n",
       "      <td>1</td>\n",
       "      <td>[0.0, 0.0, 0.0, 7.0, 2.0, 12.0, 1.0, 1.0, 1.0]</td>\n",
       "      <td>[0.0, 0.0, 0.0, 0.2916666666666667, 0.08333333...</td>\n",
       "      <td>[0.4689743287209768, -0.4689743287209768]</td>\n",
       "      <td>[0.7186851096061654, 0.2813148903938346]</td>\n",
       "      <td>0.0</td>\n",
       "    </tr>\n",
       "    <tr>\n",
       "      <th>1987</th>\n",
       "      <td>4284_01</td>\n",
       "      <td>3.0</td>\n",
       "      <td>1.0</td>\n",
       "      <td>1.0</td>\n",
       "      <td>62.0</td>\n",
       "      <td>0.0</td>\n",
       "      <td>NaN</td>\n",
       "      <td>0.0</td>\n",
       "      <td>6.0</td>\n",
       "      <td>2.0</td>\n",
       "      <td>0</td>\n",
       "      <td>[1.0, 0.0, 0.0, 6.0, 2.0, 62.0, 0.0, 3.0, 1.0]</td>\n",
       "      <td>[0.013333333333333334, 0.0, 0.0, 0.08, 0.02666...</td>\n",
       "      <td>[-1.5697677121460558, 1.5697677121460558]</td>\n",
       "      <td>[0.04150559752638785, 0.9584944024736122]</td>\n",
       "      <td>1.0</td>\n",
       "    </tr>\n",
       "    <tr>\n",
       "      <th>1496</th>\n",
       "      <td>3222_01</td>\n",
       "      <td>1.0</td>\n",
       "      <td>0.0</td>\n",
       "      <td>1.0</td>\n",
       "      <td>24.0</td>\n",
       "      <td>0.0</td>\n",
       "      <td>NaN</td>\n",
       "      <td>771.0</td>\n",
       "      <td>7.0</td>\n",
       "      <td>1.0</td>\n",
       "      <td>1</td>\n",
       "      <td>[0.0, 0.0, 771.0, 7.0, 1.0, 24.0, 1.0, 1.0, 1.0]</td>\n",
       "      <td>[0.0, 0.0, 0.956575682382134, 0.00868486352357...</td>\n",
       "      <td>[0.4963144261586493, -0.4963144261586493]</td>\n",
       "      <td>[0.7296068570829294, 0.2703931429170706]</td>\n",
       "      <td>0.0</td>\n",
       "    </tr>\n",
       "    <tr>\n",
       "      <th>130</th>\n",
       "      <td>0276_02</td>\n",
       "      <td>2.0</td>\n",
       "      <td>1.0</td>\n",
       "      <td>1.0</td>\n",
       "      <td>25.0</td>\n",
       "      <td>0.0</td>\n",
       "      <td>NaN</td>\n",
       "      <td>0.0</td>\n",
       "      <td>2.0</td>\n",
       "      <td>1.0</td>\n",
       "      <td>0</td>\n",
       "      <td>[1.0, 0.0, 0.0, 2.0, 1.0, 25.0, 0.0, 2.0, 1.0]</td>\n",
       "      <td>[0.03125, 0.0, 0.0, 0.0625, 0.03125, 0.78125, ...</td>\n",
       "      <td>[-1.8588610907990375, 1.8588610907990375]</td>\n",
       "      <td>[0.02371325461270156, 0.9762867453872984]</td>\n",
       "      <td>1.0</td>\n",
       "    </tr>\n",
       "    <tr>\n",
       "      <th>4142</th>\n",
       "      <td>8990_01</td>\n",
       "      <td>1.0</td>\n",
       "      <td>1.0</td>\n",
       "      <td>1.0</td>\n",
       "      <td>55.0</td>\n",
       "      <td>0.0</td>\n",
       "      <td>NaN</td>\n",
       "      <td>0.0</td>\n",
       "      <td>7.0</td>\n",
       "      <td>2.0</td>\n",
       "      <td>1</td>\n",
       "      <td>[1.0, 0.0, 0.0, 7.0, 2.0, 55.0, 1.0, 1.0, 1.0]</td>\n",
       "      <td>[0.014705882352941176, 0.0, 0.0, 0.10294117647...</td>\n",
       "      <td>[-0.06778002510483937, 0.06778002510483937]</td>\n",
       "      <td>[0.466161790648196, 0.5338382093518039]</td>\n",
       "      <td>1.0</td>\n",
       "    </tr>\n",
       "    <tr>\n",
       "      <th>1343</th>\n",
       "      <td>2885_01</td>\n",
       "      <td>3.0</td>\n",
       "      <td>0.0</td>\n",
       "      <td>1.0</td>\n",
       "      <td>20.0</td>\n",
       "      <td>0.0</td>\n",
       "      <td>NaN</td>\n",
       "      <td>1288.0</td>\n",
       "      <td>6.0</td>\n",
       "      <td>1.0</td>\n",
       "      <td>1</td>\n",
       "      <td>[0.0, 0.0, 1288.0, 6.0, 1.0, 20.0, 1.0, 3.0, 1.0]</td>\n",
       "      <td>[0.0, 0.0, 0.9757575757575757, 0.0045454545454...</td>\n",
       "      <td>[0.49773402902287356, -0.49773402902287356]</td>\n",
       "      <td>[0.730166612270397, 0.26983338772960297]</td>\n",
       "      <td>0.0</td>\n",
       "    </tr>\n",
       "    <tr>\n",
       "      <th>2636</th>\n",
       "      <td>5787_01</td>\n",
       "      <td>1.0</td>\n",
       "      <td>0.0</td>\n",
       "      <td>1.0</td>\n",
       "      <td>29.0</td>\n",
       "      <td>0.0</td>\n",
       "      <td>NaN</td>\n",
       "      <td>1692.0</td>\n",
       "      <td>5.0</td>\n",
       "      <td>2.0</td>\n",
       "      <td>0</td>\n",
       "      <td>[0.0, 0.0, 1692.0, 5.0, 2.0, 29.0, 0.0, 1.0, 1.0]</td>\n",
       "      <td>[0.0, 0.0, 0.9780346820809248, 0.0028901734104...</td>\n",
       "      <td>[0.6405001329656954, -0.6405001329656954]</td>\n",
       "      <td>[0.7826199957089399, 0.21738000429106008]</td>\n",
       "      <td>0.0</td>\n",
       "    </tr>\n",
       "    <tr>\n",
       "      <th>3312</th>\n",
       "      <td>7251_01</td>\n",
       "      <td>1.0</td>\n",
       "      <td>1.0</td>\n",
       "      <td>2.0</td>\n",
       "      <td>23.0</td>\n",
       "      <td>0.0</td>\n",
       "      <td>NaN</td>\n",
       "      <td>0.0</td>\n",
       "      <td>7.0</td>\n",
       "      <td>2.0</td>\n",
       "      <td>1</td>\n",
       "      <td>[1.0, 0.0, 0.0, 7.0, 2.0, 23.0, 1.0, 1.0, 2.0]</td>\n",
       "      <td>[0.02702702702702703, 0.0, 0.0, 0.189189189189...</td>\n",
       "      <td>[-0.3207151833824683, 0.3207151833824683]</td>\n",
       "      <td>[0.34492327464309797, 0.6550767253569021]</td>\n",
       "      <td>1.0</td>\n",
       "    </tr>\n",
       "    <tr>\n",
       "      <th>1263</th>\n",
       "      <td>2686_01</td>\n",
       "      <td>1.0</td>\n",
       "      <td>0.0</td>\n",
       "      <td>1.0</td>\n",
       "      <td>16.0</td>\n",
       "      <td>0.0</td>\n",
       "      <td>NaN</td>\n",
       "      <td>3183.0</td>\n",
       "      <td>6.0</td>\n",
       "      <td>1.0</td>\n",
       "      <td>1</td>\n",
       "      <td>[0.0, 0.0, 3183.0, 6.0, 1.0, 16.0, 1.0, 1.0, 1.0]</td>\n",
       "      <td>[0.0, 0.0, 0.9918977874727329, 0.0018697413524...</td>\n",
       "      <td>[0.710750714115204, -0.710750714115204]</td>\n",
       "      <td>[0.8055736850854454, 0.19442631491455464]</td>\n",
       "      <td>0.0</td>\n",
       "    </tr>\n",
       "    <tr>\n",
       "      <th>1903</th>\n",
       "      <td>4073_01</td>\n",
       "      <td>1.0</td>\n",
       "      <td>0.0</td>\n",
       "      <td>1.0</td>\n",
       "      <td>27.0</td>\n",
       "      <td>0.0</td>\n",
       "      <td>NaN</td>\n",
       "      <td>874.0</td>\n",
       "      <td>6.0</td>\n",
       "      <td>1.0</td>\n",
       "      <td>0</td>\n",
       "      <td>[0.0, 0.0, 874.0, 6.0, 1.0, 27.0, 0.0, 1.0, 1.0]</td>\n",
       "      <td>[0.0, 0.0, 0.9604395604395605, 0.0065934065934...</td>\n",
       "      <td>[0.3490015286122245, -0.3490015286122245]</td>\n",
       "      <td>[0.6677448756429502, 0.33225512435704985]</td>\n",
       "      <td>0.0</td>\n",
       "    </tr>\n",
       "    <tr>\n",
       "      <th>3601</th>\n",
       "      <td>7846_02</td>\n",
       "      <td>2.0</td>\n",
       "      <td>1.0</td>\n",
       "      <td>2.0</td>\n",
       "      <td>24.0</td>\n",
       "      <td>0.0</td>\n",
       "      <td>NaN</td>\n",
       "      <td>0.0</td>\n",
       "      <td>2.0</td>\n",
       "      <td>1.0</td>\n",
       "      <td>0</td>\n",
       "      <td>[1.0, 0.0, 0.0, 2.0, 1.0, 24.0, 0.0, 2.0, 2.0]</td>\n",
       "      <td>[0.03125, 0.0, 0.0, 0.0625, 0.03125, 0.75, 0.0...</td>\n",
       "      <td>[-2.0748457412868913, 2.0748457412868913]</td>\n",
       "      <td>[0.015524471088022377, 0.9844755289119776]</td>\n",
       "      <td>1.0</td>\n",
       "    </tr>\n",
       "    <tr>\n",
       "      <th>4195</th>\n",
       "      <td>9093_01</td>\n",
       "      <td>2.0</td>\n",
       "      <td>0.0</td>\n",
       "      <td>1.0</td>\n",
       "      <td>48.0</td>\n",
       "      <td>0.0</td>\n",
       "      <td>NaN</td>\n",
       "      <td>7470.0</td>\n",
       "      <td>1.0</td>\n",
       "      <td>1.0</td>\n",
       "      <td>1</td>\n",
       "      <td>[0.0, 0.0, 7470.0, 1.0, 1.0, 48.0, 1.0, 2.0, 1.0]</td>\n",
       "      <td>[0.0, 0.0, 0.992822966507177, 0.00013290802764...</td>\n",
       "      <td>[0.38011979144332136, -0.38011979144332136]</td>\n",
       "      <td>[0.6814057475665705, 0.31859425243342954]</td>\n",
       "      <td>0.0</td>\n",
       "    </tr>\n",
       "    <tr>\n",
       "      <th>3089</th>\n",
       "      <td>6771_01</td>\n",
       "      <td>1.0</td>\n",
       "      <td>0.0</td>\n",
       "      <td>1.0</td>\n",
       "      <td>47.0</td>\n",
       "      <td>0.0</td>\n",
       "      <td>NaN</td>\n",
       "      <td>902.0</td>\n",
       "      <td>6.0</td>\n",
       "      <td>1.0</td>\n",
       "      <td>1</td>\n",
       "      <td>[0.0, 0.0, 902.0, 6.0, 1.0, 47.0, 1.0, 1.0, 1.0]</td>\n",
       "      <td>[0.0, 0.0, 0.940563086548488, 0.00625651720542...</td>\n",
       "      <td>[0.15916515503794204, -0.15916515503794204]</td>\n",
       "      <td>[0.5789172821119999, 0.4210827178880001]</td>\n",
       "      <td>0.0</td>\n",
       "    </tr>\n",
       "    <tr>\n",
       "      <th>1339</th>\n",
       "      <td>2868_03</td>\n",
       "      <td>1.0</td>\n",
       "      <td>0.0</td>\n",
       "      <td>1.0</td>\n",
       "      <td>3.0</td>\n",
       "      <td>0.0</td>\n",
       "      <td>NaN</td>\n",
       "      <td>0.0</td>\n",
       "      <td>7.0</td>\n",
       "      <td>1.0</td>\n",
       "      <td>0</td>\n",
       "      <td>[0.0, 0.0, 0.0, 7.0, 1.0, 3.0, 0.0, 1.0, 1.0]</td>\n",
       "      <td>[0.0, 0.0, 0.0, 0.5384615384615384, 0.07692307...</td>\n",
       "      <td>[-0.20160575553950832, 0.20160575553950832]</td>\n",
       "      <td>[0.40054098497425017, 0.5994590150257498]</td>\n",
       "      <td>1.0</td>\n",
       "    </tr>\n",
       "    <tr>\n",
       "      <th>1608</th>\n",
       "      <td>3471_01</td>\n",
       "      <td>1.0</td>\n",
       "      <td>0.0</td>\n",
       "      <td>1.0</td>\n",
       "      <td>29.0</td>\n",
       "      <td>0.0</td>\n",
       "      <td>NaN</td>\n",
       "      <td>3854.0</td>\n",
       "      <td>7.0</td>\n",
       "      <td>2.0</td>\n",
       "      <td>1</td>\n",
       "      <td>[0.0, 0.0, 3854.0, 7.0, 2.0, 29.0, 1.0, 1.0, 1.0]</td>\n",
       "      <td>[0.0, 0.0, 0.9894736842105263, 0.0017971758664...</td>\n",
       "      <td>[0.6409457801028464, -0.6409457801028464]</td>\n",
       "      <td>[0.7827715897871945, 0.21722841021280548]</td>\n",
       "      <td>0.0</td>\n",
       "    </tr>\n",
       "    <tr>\n",
       "      <th>821</th>\n",
       "      <td>1686_01</td>\n",
       "      <td>1.0</td>\n",
       "      <td>0.0</td>\n",
       "      <td>1.0</td>\n",
       "      <td>19.0</td>\n",
       "      <td>0.0</td>\n",
       "      <td>NaN</td>\n",
       "      <td>2139.0</td>\n",
       "      <td>6.0</td>\n",
       "      <td>2.0</td>\n",
       "      <td>1</td>\n",
       "      <td>[0.0, 0.0, 2139.0, 6.0, 2.0, 19.0, 1.0, 1.0, 1.0]</td>\n",
       "      <td>[0.0, 0.0, 0.9861687413554634, 0.0027662517289...</td>\n",
       "      <td>[0.40275425267150566, -0.40275425267150566]</td>\n",
       "      <td>[0.6911515690637701, 0.30884843093622993]</td>\n",
       "      <td>0.0</td>\n",
       "    </tr>\n",
       "    <tr>\n",
       "      <th>2284</th>\n",
       "      <td>4968_01</td>\n",
       "      <td>1.0</td>\n",
       "      <td>1.0</td>\n",
       "      <td>1.0</td>\n",
       "      <td>26.0</td>\n",
       "      <td>0.0</td>\n",
       "      <td>NaN</td>\n",
       "      <td>0.0</td>\n",
       "      <td>7.0</td>\n",
       "      <td>2.0</td>\n",
       "      <td>1</td>\n",
       "      <td>[1.0, 0.0, 0.0, 7.0, 2.0, 26.0, 1.0, 1.0, 1.0]</td>\n",
       "      <td>[0.02564102564102564, 0.0, 0.0, 0.179487179487...</td>\n",
       "      <td>[0.021923990499793072, -0.021923990499793072]</td>\n",
       "      <td>[0.5109602392516657, 0.48903976074833433]</td>\n",
       "      <td>0.0</td>\n",
       "    </tr>\n",
       "    <tr>\n",
       "      <th>4025</th>\n",
       "      <td>8763_03</td>\n",
       "      <td>1.0</td>\n",
       "      <td>0.0</td>\n",
       "      <td>2.0</td>\n",
       "      <td>0.0</td>\n",
       "      <td>0.0</td>\n",
       "      <td>NaN</td>\n",
       "      <td>0.0</td>\n",
       "      <td>7.0</td>\n",
       "      <td>2.0</td>\n",
       "      <td>0</td>\n",
       "      <td>(0.0, 0.0, 0.0, 7.0, 2.0, 0.0, 0.0, 1.0, 2.0)</td>\n",
       "      <td>(0.0, 0.0, 0.0, 0.5833333333333334, 0.16666666...</td>\n",
       "      <td>[-0.4940773433645663, 0.4940773433645663]</td>\n",
       "      <td>[0.2712767156162399, 0.7287232843837601]</td>\n",
       "      <td>1.0</td>\n",
       "    </tr>\n",
       "  </tbody>\n",
       "</table>\n",
       "</div>"
      ],
      "text/plain": [
       "     PassengerId  HomePlanet  CryoSleep  Destination   Age  VIP  Transported  \\\n",
       "3598     7838_01         2.0        1.0          1.0  27.0  0.0          NaN   \n",
       "2878     6332_05         1.0        0.0          1.0  24.0  0.0          NaN   \n",
       "858      1787_01         1.0        0.0          1.0  12.0  0.0          NaN   \n",
       "1987     4284_01         3.0        1.0          1.0  62.0  0.0          NaN   \n",
       "1496     3222_01         1.0        0.0          1.0  24.0  0.0          NaN   \n",
       "130      0276_02         2.0        1.0          1.0  25.0  0.0          NaN   \n",
       "4142     8990_01         1.0        1.0          1.0  55.0  0.0          NaN   \n",
       "1343     2885_01         3.0        0.0          1.0  20.0  0.0          NaN   \n",
       "2636     5787_01         1.0        0.0          1.0  29.0  0.0          NaN   \n",
       "3312     7251_01         1.0        1.0          2.0  23.0  0.0          NaN   \n",
       "1263     2686_01         1.0        0.0          1.0  16.0  0.0          NaN   \n",
       "1903     4073_01         1.0        0.0          1.0  27.0  0.0          NaN   \n",
       "3601     7846_02         2.0        1.0          2.0  24.0  0.0          NaN   \n",
       "4195     9093_01         2.0        0.0          1.0  48.0  0.0          NaN   \n",
       "3089     6771_01         1.0        0.0          1.0  47.0  0.0          NaN   \n",
       "1339     2868_03         1.0        0.0          1.0   3.0  0.0          NaN   \n",
       "1608     3471_01         1.0        0.0          1.0  29.0  0.0          NaN   \n",
       "821      1686_01         1.0        0.0          1.0  19.0  0.0          NaN   \n",
       "2284     4968_01         1.0        1.0          1.0  26.0  0.0          NaN   \n",
       "4025     8763_03         1.0        0.0          2.0   0.0  0.0          NaN   \n",
       "\n",
       "      Luxury  CabinSegment  CabinClass  Alone  \\\n",
       "3598     0.0           3.0         1.0      1   \n",
       "2878   828.0           6.0         2.0      0   \n",
       "858      0.0           7.0         2.0      1   \n",
       "1987     0.0           6.0         2.0      0   \n",
       "1496   771.0           7.0         1.0      1   \n",
       "130      0.0           2.0         1.0      0   \n",
       "4142     0.0           7.0         2.0      1   \n",
       "1343  1288.0           6.0         1.0      1   \n",
       "2636  1692.0           5.0         2.0      0   \n",
       "3312     0.0           7.0         2.0      1   \n",
       "1263  3183.0           6.0         1.0      1   \n",
       "1903   874.0           6.0         1.0      0   \n",
       "3601     0.0           2.0         1.0      0   \n",
       "4195  7470.0           1.0         1.0      1   \n",
       "3089   902.0           6.0         1.0      1   \n",
       "1339     0.0           7.0         1.0      0   \n",
       "1608  3854.0           7.0         2.0      1   \n",
       "821   2139.0           6.0         2.0      1   \n",
       "2284     0.0           7.0         2.0      1   \n",
       "4025     0.0           7.0         2.0      0   \n",
       "\n",
       "                                               features  \\\n",
       "3598     [1.0, 0.0, 0.0, 3.0, 1.0, 27.0, 1.0, 2.0, 1.0]   \n",
       "2878   [0.0, 0.0, 828.0, 6.0, 2.0, 24.0, 0.0, 1.0, 1.0]   \n",
       "858      [0.0, 0.0, 0.0, 7.0, 2.0, 12.0, 1.0, 1.0, 1.0]   \n",
       "1987     [1.0, 0.0, 0.0, 6.0, 2.0, 62.0, 0.0, 3.0, 1.0]   \n",
       "1496   [0.0, 0.0, 771.0, 7.0, 1.0, 24.0, 1.0, 1.0, 1.0]   \n",
       "130      [1.0, 0.0, 0.0, 2.0, 1.0, 25.0, 0.0, 2.0, 1.0]   \n",
       "4142     [1.0, 0.0, 0.0, 7.0, 2.0, 55.0, 1.0, 1.0, 1.0]   \n",
       "1343  [0.0, 0.0, 1288.0, 6.0, 1.0, 20.0, 1.0, 3.0, 1.0]   \n",
       "2636  [0.0, 0.0, 1692.0, 5.0, 2.0, 29.0, 0.0, 1.0, 1.0]   \n",
       "3312     [1.0, 0.0, 0.0, 7.0, 2.0, 23.0, 1.0, 1.0, 2.0]   \n",
       "1263  [0.0, 0.0, 3183.0, 6.0, 1.0, 16.0, 1.0, 1.0, 1.0]   \n",
       "1903   [0.0, 0.0, 874.0, 6.0, 1.0, 27.0, 0.0, 1.0, 1.0]   \n",
       "3601     [1.0, 0.0, 0.0, 2.0, 1.0, 24.0, 0.0, 2.0, 2.0]   \n",
       "4195  [0.0, 0.0, 7470.0, 1.0, 1.0, 48.0, 1.0, 2.0, 1.0]   \n",
       "3089   [0.0, 0.0, 902.0, 6.0, 1.0, 47.0, 1.0, 1.0, 1.0]   \n",
       "1339      [0.0, 0.0, 0.0, 7.0, 1.0, 3.0, 0.0, 1.0, 1.0]   \n",
       "1608  [0.0, 0.0, 3854.0, 7.0, 2.0, 29.0, 1.0, 1.0, 1.0]   \n",
       "821   [0.0, 0.0, 2139.0, 6.0, 2.0, 19.0, 1.0, 1.0, 1.0]   \n",
       "2284     [1.0, 0.0, 0.0, 7.0, 2.0, 26.0, 1.0, 1.0, 1.0]   \n",
       "4025      (0.0, 0.0, 0.0, 7.0, 2.0, 0.0, 0.0, 1.0, 2.0)   \n",
       "\n",
       "                                          features_norm  \\\n",
       "3598  [0.027777777777777776, 0.0, 0.0, 0.08333333333...   \n",
       "2878  [0.0, 0.0, 0.9605568445475638, 0.0069605568445...   \n",
       "858   [0.0, 0.0, 0.0, 0.2916666666666667, 0.08333333...   \n",
       "1987  [0.013333333333333334, 0.0, 0.0, 0.08, 0.02666...   \n",
       "1496  [0.0, 0.0, 0.956575682382134, 0.00868486352357...   \n",
       "130   [0.03125, 0.0, 0.0, 0.0625, 0.03125, 0.78125, ...   \n",
       "4142  [0.014705882352941176, 0.0, 0.0, 0.10294117647...   \n",
       "1343  [0.0, 0.0, 0.9757575757575757, 0.0045454545454...   \n",
       "2636  [0.0, 0.0, 0.9780346820809248, 0.0028901734104...   \n",
       "3312  [0.02702702702702703, 0.0, 0.0, 0.189189189189...   \n",
       "1263  [0.0, 0.0, 0.9918977874727329, 0.0018697413524...   \n",
       "1903  [0.0, 0.0, 0.9604395604395605, 0.0065934065934...   \n",
       "3601  [0.03125, 0.0, 0.0, 0.0625, 0.03125, 0.75, 0.0...   \n",
       "4195  [0.0, 0.0, 0.992822966507177, 0.00013290802764...   \n",
       "3089  [0.0, 0.0, 0.940563086548488, 0.00625651720542...   \n",
       "1339  [0.0, 0.0, 0.0, 0.5384615384615384, 0.07692307...   \n",
       "1608  [0.0, 0.0, 0.9894736842105263, 0.0017971758664...   \n",
       "821   [0.0, 0.0, 0.9861687413554634, 0.0027662517289...   \n",
       "2284  [0.02564102564102564, 0.0, 0.0, 0.179487179487...   \n",
       "4025  (0.0, 0.0, 0.0, 0.5833333333333334, 0.16666666...   \n",
       "\n",
       "                                      rawPrediction  \\\n",
       "3598      [-1.6918835876803449, 1.6918835876803449]   \n",
       "2878    [0.47414658048567704, -0.47414658048567704]   \n",
       "858       [0.4689743287209768, -0.4689743287209768]   \n",
       "1987      [-1.5697677121460558, 1.5697677121460558]   \n",
       "1496      [0.4963144261586493, -0.4963144261586493]   \n",
       "130       [-1.8588610907990375, 1.8588610907990375]   \n",
       "4142    [-0.06778002510483937, 0.06778002510483937]   \n",
       "1343    [0.49773402902287356, -0.49773402902287356]   \n",
       "2636      [0.6405001329656954, -0.6405001329656954]   \n",
       "3312      [-0.3207151833824683, 0.3207151833824683]   \n",
       "1263        [0.710750714115204, -0.710750714115204]   \n",
       "1903      [0.3490015286122245, -0.3490015286122245]   \n",
       "3601      [-2.0748457412868913, 2.0748457412868913]   \n",
       "4195    [0.38011979144332136, -0.38011979144332136]   \n",
       "3089    [0.15916515503794204, -0.15916515503794204]   \n",
       "1339    [-0.20160575553950832, 0.20160575553950832]   \n",
       "1608      [0.6409457801028464, -0.6409457801028464]   \n",
       "821     [0.40275425267150566, -0.40275425267150566]   \n",
       "2284  [0.021923990499793072, -0.021923990499793072]   \n",
       "4025      [-0.4940773433645663, 0.4940773433645663]   \n",
       "\n",
       "                                     probability  prediction  \n",
       "3598   [0.03280665030640534, 0.9671933496935947]         1.0  \n",
       "2878   [0.7207717893920194, 0.27922821060798064]         0.0  \n",
       "858     [0.7186851096061654, 0.2813148903938346]         0.0  \n",
       "1987   [0.04150559752638785, 0.9584944024736122]         1.0  \n",
       "1496    [0.7296068570829294, 0.2703931429170706]         0.0  \n",
       "130    [0.02371325461270156, 0.9762867453872984]         1.0  \n",
       "4142     [0.466161790648196, 0.5338382093518039]         1.0  \n",
       "1343    [0.730166612270397, 0.26983338772960297]         0.0  \n",
       "2636   [0.7826199957089399, 0.21738000429106008]         0.0  \n",
       "3312   [0.34492327464309797, 0.6550767253569021]         1.0  \n",
       "1263   [0.8055736850854454, 0.19442631491455464]         0.0  \n",
       "1903   [0.6677448756429502, 0.33225512435704985]         0.0  \n",
       "3601  [0.015524471088022377, 0.9844755289119776]         1.0  \n",
       "4195   [0.6814057475665705, 0.31859425243342954]         0.0  \n",
       "3089    [0.5789172821119999, 0.4210827178880001]         0.0  \n",
       "1339   [0.40054098497425017, 0.5994590150257498]         1.0  \n",
       "1608   [0.7827715897871945, 0.21722841021280548]         0.0  \n",
       "821    [0.6911515690637701, 0.30884843093622993]         0.0  \n",
       "2284   [0.5109602392516657, 0.48903976074833433]         0.0  \n",
       "4025    [0.2712767156162399, 0.7287232843837601]         1.0  "
      ]
     },
     "execution_count": 69,
     "metadata": {},
     "output_type": "execute_result"
    }
   ],
   "source": [
    "predictions.sample(20)"
   ]
  },
  {
   "cell_type": "markdown",
   "id": "300d902e-7c14-45ea-8322-0a92b8909737",
   "metadata": {},
   "source": [
    "Thank you for your time."
   ]
  },
  {
   "cell_type": "code",
   "execution_count": null,
   "id": "b2a5eeb5-eb0f-4156-aacd-ca82772fc82e",
   "metadata": {},
   "outputs": [],
   "source": []
  }
 ],
 "metadata": {
  "kernelspec": {
   "display_name": "Python 3 (ipykernel)",
   "language": "python",
   "name": "python3"
  },
  "language_info": {
   "codemirror_mode": {
    "name": "ipython",
    "version": 3
   },
   "file_extension": ".py",
   "mimetype": "text/x-python",
   "name": "python",
   "nbconvert_exporter": "python",
   "pygments_lexer": "ipython3",
   "version": "3.11.5"
  }
 },
 "nbformat": 4,
 "nbformat_minor": 5
}
